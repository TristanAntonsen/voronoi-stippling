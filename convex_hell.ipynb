{
 "cells": [
  {
   "cell_type": "markdown",
   "metadata": {},
   "source": [
    "Convex Hull"
   ]
  },
  {
   "cell_type": "code",
   "execution_count": 95,
   "metadata": {},
   "outputs": [],
   "source": [
    "from PIL import Image, ImageDraw\n",
    "import numpy as np"
   ]
  },
  {
   "cell_type": "code",
   "execution_count": 96,
   "metadata": {},
   "outputs": [],
   "source": [
    "def center_ellipse(x,y,r,c):\n",
    "\n",
    "    draw.ellipse([x - r, y - r, x + r, y + r],fill=c)\n",
    "\n",
    "def center_rectangle(x,y,l,w,c):\n",
    "    l = l/2\n",
    "    w = w/2\n",
    "    draw.rectangle([x - w, y - l, x + w, y + l],fill=c)\n",
    "\n",
    "def distance(p1,p2):\n",
    "\n",
    "    dist = (p2[0] - p1[0])**2 + (p2[1] - p1[1])**2\n",
    "\n",
    "    dist = np.sqrt(dist)\n",
    "\n",
    "    return dist"
   ]
  },
  {
   "cell_type": "code",
   "execution_count": 97,
   "metadata": {},
   "outputs": [],
   "source": [
    "image_resolution = 1080\n",
    "point_count = 50\n",
    "rejection_radius = 300\n",
    "\n",
    "img = Image.new('RGB', (image_resolution, image_resolution))\n",
    "center = [image_resolution / 2, image_resolution / 2]\n",
    "draw = ImageDraw.Draw(img)\n",
    "\n",
    "points = []\n",
    "n = 0\n",
    "while n < point_count:\n",
    "    x = np.random.rand() * image_resolution\n",
    "    y = np.random.rand() * image_resolution\n",
    "    dist = distance([x,y],center)\n",
    "    if dist < rejection_radius:\n",
    "        points.append([x,y])\n",
    "        center_ellipse(x,y,10,'white')\n",
    "        n += 1\n",
    "img.save('points.png')"
   ]
  },
  {
   "cell_type": "markdown",
   "metadata": {},
   "source": [
    "Finding the bottom point"
   ]
  },
  {
   "cell_type": "code",
   "execution_count": 98,
   "metadata": {},
   "outputs": [
    {
     "data": {
      "text/plain": [
       "[594.1993704251421, 256.1094567192]"
      ]
     },
     "execution_count": 98,
     "metadata": {},
     "output_type": "execute_result"
    }
   ],
   "source": [
    "min_y = min([p[1] for p in points])\n",
    "min_point = []\n",
    "for p in points:\n",
    "    if p[1] == min_y:\n",
    "        min_point = p\n",
    "\n",
    "center_ellipse(min_point[0],min_point[1],10,'red')\n",
    "img.save('points.png')\n",
    "min_point"
   ]
  },
  {
   "cell_type": "markdown",
   "metadata": {},
   "source": [
    "Calculating angles"
   ]
  },
  {
   "cell_type": "code",
   "execution_count": 99,
   "metadata": {},
   "outputs": [
    {
     "name": "stdout",
     "output_type": "stream",
     "text": [
      "[438.4170890422902, 467.8771533641576, 0]\n",
      "[674.1149057343205, 427.7220942153954, 0]\n",
      "[428.5884446268382, 414.67753462498916, 0]\n",
      "[272.58130916898995, 542.5622723424945, 0]\n",
      "[520.559218346131, 640.3191836366635, 0]\n",
      "[497.9132325680667, 654.1666508931934, 0]\n",
      "[574.6151556829595, 501.84232912524715, 0]\n",
      "[526.2703351944109, 358.9559328455227, 0]\n",
      "[587.460496334846, 713.8670159992499, 0]\n",
      "[530.2214730846379, 315.25846547916535, 0]\n",
      "[252.63128674828235, 621.6285506186888, 0]\n",
      "[586.0809391958221, 719.3099637979514, 0]\n",
      "[412.3660830456676, 777.3694295775593, 0]\n",
      "[434.03749836943683, 805.4750881098082, 0]\n",
      "[670.7976453306811, 735.1873811198141, 0]\n",
      "[634.6713203084154, 320.3000440305219, 0]\n",
      "[594.1993704251421, 256.1094567192, 0]\n",
      "[607.792308881134, 590.4471247154104, 0]\n",
      "[762.4321725504146, 562.8820722726443, 0]\n",
      "[646.1240540713095, 712.9525569533821, 0]\n",
      "[562.1942313457433, 378.8381845771114, 0]\n",
      "[532.6874435168538, 454.4108069254371, 0]\n",
      "[525.7114158368802, 705.1699913410644, 0]\n",
      "[506.72191085330735, 334.0724214715492, 0]\n",
      "[704.4154167304398, 637.0878072872595, 0]\n",
      "[775.9662066880039, 560.6360058388141, 0]\n",
      "[793.0726252964637, 440.50273386364523, 0]\n",
      "[520.6985339299059, 838.9644276875523, 0]\n",
      "[763.903421930081, 715.7970363285981, 0]\n",
      "[461.09192084320887, 373.3622467845158, 0]\n",
      "[582.3732896290164, 603.6409822345202, 0]\n",
      "[734.7205496910822, 712.677972919199, 0]\n",
      "[443.07590048045154, 335.9733808384975, 0]\n",
      "[555.7708638644308, 731.0909437989416, 0]\n",
      "[566.3646636306837, 758.872992103043, 0]\n",
      "[650.6816114913129, 559.8018928407334, 0]\n",
      "[370.36640109614694, 422.6110022022598, 0]\n",
      "[778.4250649511777, 527.5003229163186, 0]\n",
      "[595.8662608283013, 705.0426305079073, 0]\n",
      "[778.0240625148977, 542.0792938171961, 0]\n",
      "[649.4401389730457, 586.7234878104844, 0]\n",
      "[282.88266979036354, 440.66741418142647, 0]\n",
      "[373.2180648966798, 560.6675370791037, 0]\n",
      "[819.8009433399502, 578.6599092187973, 0]\n",
      "[777.6991887514791, 555.639190629193, 0]\n",
      "[667.2944736750353, 762.4225125422269, 0]\n",
      "[601.9112240489569, 377.9305257354581, 0]\n",
      "[268.0905378047925, 422.96692012051983, 0]\n",
      "[500.74611019321225, 516.1908765318282, 0]\n",
      "[807.7823151081457, 522.3591409738075, 0]\n"
     ]
    }
   ],
   "source": [
    "UNIT_X = [1,0,0]\n",
    "for point in points:\n",
    "    \n",
    "    "
   ]
  },
  {
   "cell_type": "code",
   "execution_count": null,
   "metadata": {},
   "outputs": [],
   "source": []
  },
  {
   "cell_type": "code",
   "execution_count": null,
   "metadata": {},
   "outputs": [],
   "source": []
  },
  {
   "cell_type": "markdown",
   "metadata": {},
   "source": [
    "Counter-Clockwise Function"
   ]
  },
  {
   "cell_type": "markdown",
   "metadata": {},
   "source": []
  },
  {
   "cell_type": "code",
   "execution_count": null,
   "metadata": {},
   "outputs": [],
   "source": []
  }
 ],
 "metadata": {
  "kernelspec": {
   "display_name": "Python 3.9.6 64-bit ('python-project')",
   "language": "python",
   "name": "python3"
  },
  "language_info": {
   "codemirror_mode": {
    "name": "ipython",
    "version": 3
   },
   "file_extension": ".py",
   "mimetype": "text/x-python",
   "name": "python",
   "nbconvert_exporter": "python",
   "pygments_lexer": "ipython3",
   "version": "3.9.6"
  },
  "orig_nbformat": 4,
  "vscode": {
   "interpreter": {
    "hash": "1e02ec52e8f7f81913513f5edcaf2c1a5e46d1232f673b5f442050451668524e"
   }
  }
 },
 "nbformat": 4,
 "nbformat_minor": 2
}

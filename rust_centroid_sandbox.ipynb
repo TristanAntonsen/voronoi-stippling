{
 "cells": [
  {
   "cell_type": "code",
   "execution_count": 1,
   "metadata": {},
   "outputs": [],
   "source": [
    "from PIL import Image, ImageDraw, ImageFilter\n",
    "from scipy.spatial import Voronoi, voronoi_plot_2d\n",
    "import matplotlib.pyplot as plt\n",
    "import numpy as np\n",
    "from rasterize import Scanline_Rasterize_Polygon, Weighted_Raster_Centroid, Raster_BBox\n",
    "from geometry import Sort_Vertices, Create_Seed\n",
    "from stippling import Stippler\n",
    "import time"
   ]
  },
  {
   "cell_type": "markdown",
   "metadata": {},
   "source": [
    "Rust import"
   ]
  },
  {
   "cell_type": "code",
   "execution_count": 2,
   "metadata": {},
   "outputs": [],
   "source": [
    "import voronoi_stippling as vs"
   ]
  },
  {
   "cell_type": "code",
   "execution_count": 3,
   "metadata": {},
   "outputs": [],
   "source": [
    "def center_rectangle(x,y,l,w,c):\n",
    "    l = l/2\n",
    "    w = w/2\n",
    "    draw.rectangle([x - w, y - l, x + w, y + l],fill=c)\n",
    "\n",
    "def center_ellipse(x,y,r,c):\n",
    "\n",
    "    draw.ellipse([x - r, y - r, x + r, y + r],fill=c)\n",
    "\n",
    "\n",
    "def Outline_Poly(polygon,color,width):\n",
    "    for i, point in enumerate(polygon):\n",
    "\n",
    "        k = i + 1\n",
    "        if k == len(polygon):\n",
    "            k = 0\n",
    "        point2 = polygon[k]\n",
    "\n",
    "        draw.line((point[0],point[1],point2[0],point2[1]),fill=color, width=width)"
   ]
  },
  {
   "cell_type": "markdown",
   "metadata": {},
   "source": [
    "Image parameters"
   ]
  },
  {
   "cell_type": "code",
   "execution_count": 4,
   "metadata": {},
   "outputs": [],
   "source": [
    "image_path = 'sampling/blank.jpg'\n",
    "image_resolution = 1080\n",
    "image = Image.new('RGB', (image_resolution, image_resolution))\n",
    "image.save(image_path)\n",
    "weight_image = Image.open(image_path)\n",
    "# weight_image = weight_image.resize((size,size))"
   ]
  },
  {
   "cell_type": "markdown",
   "metadata": {},
   "source": [
    "Class used in stippling for image & weight array"
   ]
  },
  {
   "cell_type": "code",
   "execution_count": 5,
   "metadata": {},
   "outputs": [
    {
     "name": "stdout",
     "output_type": "stream",
     "text": [
      "1080\n"
     ]
    }
   ],
   "source": [
    "stippler = Stippler(image_path, power=1)\n",
    "weight_array = stippler.weight_array\n",
    "print(len(list(weight_array)))"
   ]
  },
  {
   "cell_type": "markdown",
   "metadata": {},
   "source": [
    "Test polygon"
   ]
  },
  {
   "cell_type": "code",
   "execution_count": 6,
   "metadata": {},
   "outputs": [
    {
     "name": "stdout",
     "output_type": "stream",
     "text": [
      "19875\n"
     ]
    }
   ],
   "source": [
    "polygon = np.array([[10,10],[150,20],[160,160],[15,150]])\n",
    "bbox = Raster_BBox(polygon, image_resolution)\n",
    "rasterized = Scanline_Rasterize_Polygon(polygon,bbox,image_resolution)\n",
    "t0 = time.time()\n",
    "centroid = Weighted_Raster_Centroid(rasterized, stippler.weight_array)\n",
    "t1 = time.time()\n",
    "print(len(rasterized))"
   ]
  },
  {
   "cell_type": "markdown",
   "metadata": {},
   "source": [
    "Testing rust function"
   ]
  },
  {
   "cell_type": "code",
   "execution_count": 7,
   "metadata": {},
   "outputs": [
    {
     "data": {
      "text/plain": [
       "(83.73688507080078, 85.3984375)"
      ]
     },
     "execution_count": 7,
     "metadata": {},
     "output_type": "execute_result"
    }
   ],
   "source": [
    "t2 = time.time()\n",
    "rust_centroid = vs.weighted_raster_centroid(rasterized, weight_array)\n",
    "t3 = time.time()\n",
    "rust_centroid"
   ]
  },
  {
   "cell_type": "code",
   "execution_count": 11,
   "metadata": {},
   "outputs": [
    {
     "name": "stdout",
     "output_type": "stream",
     "text": [
      "Python time: 0.033\n",
      "Rust time: 0.083\n"
     ]
    }
   ],
   "source": [
    "print(f\"Python time: {round(t1 - t0, 3)}\")\n",
    "print(f\"Rust time: {round(t3 - t2, 3)}\")"
   ]
  },
  {
   "cell_type": "markdown",
   "metadata": {},
   "source": []
  },
  {
   "cell_type": "markdown",
   "metadata": {},
   "source": [
    "Visualizing"
   ]
  },
  {
   "cell_type": "code",
   "execution_count": 9,
   "metadata": {},
   "outputs": [],
   "source": [
    "scale_factor = 4 # Scale purely for visualizing\n",
    "image_resolution = image_resolution * scale_factor\n",
    "img = Image.new('RGB', (image_resolution, image_resolution))\n",
    "draw = ImageDraw.Draw(img)\n",
    "center_rectangle(image_resolution / 2, image_resolution / 2,image_resolution, image_resolution,'black')\n",
    "\n",
    "for pixel in rasterized:\n",
    "    center_rectangle(pixel[0] * scale_factor, pixel[1] * scale_factor, scale_factor/2,scale_factor/2,'white')\n",
    "\n",
    "center_ellipse(centroid[0] * scale_factor, centroid[1] * scale_factor, 20, 'red')\n",
    "center_ellipse(rust_centroid[0] * scale_factor, rust_centroid[1] * scale_factor, 15, 'blue')\n",
    "\n",
    "img.save('rust_centroid.png')"
   ]
  }
 ],
 "metadata": {
  "interpreter": {
   "hash": "f9204d8255deb287bf7e07ec8b64684d52fe8dbbfc70674cb9875c6547f6ba81"
  },
  "kernelspec": {
   "display_name": "Python 3.9.6 ('venv': venv)",
   "language": "python",
   "name": "python3"
  },
  "language_info": {
   "codemirror_mode": {
    "name": "ipython",
    "version": 3
   },
   "file_extension": ".py",
   "mimetype": "text/x-python",
   "name": "python",
   "nbconvert_exporter": "python",
   "pygments_lexer": "ipython3",
   "version": "3.9.6"
  },
  "orig_nbformat": 4
 },
 "nbformat": 4,
 "nbformat_minor": 2
}

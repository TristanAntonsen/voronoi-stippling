{
 "cells": [
  {
   "cell_type": "markdown",
   "metadata": {},
   "source": [
    "Convex Hull"
   ]
  },
  {
   "cell_type": "code",
   "execution_count": 1,
   "metadata": {},
   "outputs": [],
   "source": [
    "from PIL import Image, ImageDraw\n",
    "import numpy as np\n",
    "from rasterize import Calculate_Angle"
   ]
  },
  {
   "cell_type": "code",
   "execution_count": 2,
   "metadata": {},
   "outputs": [],
   "source": [
    "def center_ellipse(x,y,r,c):\n",
    "\n",
    "    draw.ellipse([x - r, y - r, x + r, y + r],fill=c)\n",
    "\n",
    "def center_rectangle(x,y,l,w,c):\n",
    "    l = l/2\n",
    "    w = w/2\n",
    "    draw.rectangle([x - w, y - l, x + w, y + l],fill=c)\n",
    "\n",
    "def distance(p1,p2):\n",
    "\n",
    "    dist = (p2[0] - p1[0])**2 + (p2[1] - p1[1])**2\n",
    "\n",
    "    dist = np.sqrt(dist)\n",
    "\n",
    "    return dist"
   ]
  },
  {
   "cell_type": "code",
   "execution_count": 3,
   "metadata": {},
   "outputs": [],
   "source": [
    "image_resolution = 1080\n",
    "point_count = 500\n",
    "rejection_radius = 400\n",
    "\n",
    "img = Image.new('RGB', (image_resolution, image_resolution))\n",
    "center = [image_resolution / 2, image_resolution / 2]\n",
    "draw = ImageDraw.Draw(img)\n",
    "\n",
    "points = []\n",
    "n = 0\n",
    "while n < point_count:\n",
    "    x = np.random.rand() * image_resolution\n",
    "    y = np.random.rand() * image_resolution\n",
    "    dist = distance([x,y],center)\n",
    "    if dist < rejection_radius:\n",
    "        points.append([x,y])\n",
    "        center_ellipse(x,y,10,'white')\n",
    "        n += 1\n",
    "img.save('points.png')"
   ]
  },
  {
   "cell_type": "markdown",
   "metadata": {},
   "source": [
    "Finding the bottom point"
   ]
  },
  {
   "cell_type": "code",
   "execution_count": 4,
   "metadata": {},
   "outputs": [
    {
     "data": {
      "text/plain": [
       "[495.5236480833119, 246.60687176821455]"
      ]
     },
     "execution_count": 4,
     "metadata": {},
     "output_type": "execute_result"
    }
   ],
   "source": [
    "min_y = min([p[1] for p in points])\n",
    "min_point = []\n",
    "for p in points:\n",
    "    if p[1] == min_y:\n",
    "        min_point = p\n",
    "\n",
    "center_ellipse(min_point[0],min_point[1],10,'red')\n",
    "img.save('points.png')\n",
    "min_point"
   ]
  },
  {
   "cell_type": "markdown",
   "metadata": {},
   "source": [
    "Calculating angles"
   ]
  },
  {
   "cell_type": "code",
   "execution_count": 14,
   "metadata": {},
   "outputs": [],
   "source": [
    "UNIT_X = [1,0,0]\n",
    "angles = []\n",
    "for point in points:\n",
    "    if point == min_point:\n",
    "        angles.append(0)\n",
    "        continue\n",
    "\n",
    "    point_vector = [point[0] - min_point[0],point[1] - min_point[1], 0]\n",
    "    theta = Calculate_Angle(UNIT_X,point_vector)\n",
    "    angles.append(theta)\n",
    "\n",
    "sorted_points = [x for _, x in sorted(zip(angles, points))]\n",
    "\n",
    "\n",
    "for i,p in enumerate(sorted_points):\n",
    "    g = round(i / len(sorted_points) * 205 + 50)\n",
    "    center_ellipse(p[0],p[1],10,f'rgb({g},{g},{g})')\n",
    "\n",
    "img.save('points.png')\n"
   ]
  },
  {
   "cell_type": "code",
   "execution_count": null,
   "metadata": {},
   "outputs": [],
   "source": []
  },
  {
   "cell_type": "code",
   "execution_count": null,
   "metadata": {},
   "outputs": [],
   "source": []
  },
  {
   "cell_type": "markdown",
   "metadata": {},
   "source": [
    "Counter-Clockwise Function"
   ]
  },
  {
   "cell_type": "markdown",
   "metadata": {},
   "source": []
  },
  {
   "cell_type": "code",
   "execution_count": null,
   "metadata": {},
   "outputs": [],
   "source": []
  }
 ],
 "metadata": {
  "interpreter": {
   "hash": "5b2cd4d236192f6a261c9999f35acf31ddc2292740241caa72680cddfd7111fe"
  },
  "kernelspec": {
   "display_name": "Python 3.9.7 64-bit ('py3': conda)",
   "language": "python",
   "name": "python3"
  },
  "language_info": {
   "codemirror_mode": {
    "name": "ipython",
    "version": 3
   },
   "file_extension": ".py",
   "mimetype": "text/x-python",
   "name": "python",
   "nbconvert_exporter": "python",
   "pygments_lexer": "ipython3",
   "version": "3.9.7"
  },
  "orig_nbformat": 4,
  "vscode": {
   "interpreter": {
    "hash": "1e02ec52e8f7f81913513f5edcaf2c1a5e46d1232f673b5f442050451668524e"
   }
  }
 },
 "nbformat": 4,
 "nbformat_minor": 2
}

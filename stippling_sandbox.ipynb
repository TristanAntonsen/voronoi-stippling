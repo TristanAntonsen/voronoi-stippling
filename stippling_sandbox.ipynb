{
 "cells": [
  {
   "cell_type": "markdown",
   "metadata": {},
   "source": [
    "Stippling Sandbox"
   ]
  },
  {
   "cell_type": "code",
   "execution_count": 8,
   "metadata": {},
   "outputs": [],
   "source": [
    "from PIL import Image, ImageDraw, ImageFilter\n",
    "from scipy.spatial import Voronoi, voronoi_plot_2d\n",
    "import matplotlib.pyplot as plt\n",
    "import numpy as np\n",
    "from rasterize import Scanline_Rasterize_Polygon, Sort_Vertices, Bounding_Box, Raster_Centroid, Raster_BBox"
   ]
  },
  {
   "cell_type": "code",
   "execution_count": 9,
   "metadata": {},
   "outputs": [],
   "source": [
    "def center_rectangle(x,y,l,w,c):\n",
    "    l = l/2\n",
    "    w = w/2\n",
    "    draw.rectangle([x - w, y - l, x + w, y + l],fill=c)\n",
    "\n",
    "def center_ellipse(x,y,r,c):\n",
    "\n",
    "    draw.ellipse([x - r, y - r, x + r, y + r],fill=c)\n",
    "\n",
    "\n",
    "def Outline_Poly(polygon,color,width):\n",
    "    for i, point in enumerate(polygon):\n",
    "\n",
    "        k = i + 1\n",
    "        if k == len(polygon):\n",
    "            k = 0\n",
    "        point2 = polygon[k]\n",
    "\n",
    "        draw.line((point[0],point[1],point2[0],point2[1]),fill=color, width=width)"
   ]
  },
  {
   "cell_type": "markdown",
   "metadata": {},
   "source": [
    "Image parameters"
   ]
  },
  {
   "cell_type": "code",
   "execution_count": 10,
   "metadata": {},
   "outputs": [],
   "source": [
    "image_resolution = 1080\n",
    "image_path = 'sphere.jpg'\n",
    "weight_image = Image.open(image_path)\n",
    "weight_image = weight_image.filter(ImageFilter.BoxBlur(5))\n",
    "res = image_resolution\n",
    "jitter_mag = 5\n",
    "\n",
    "scale_factor = image_resolution / res\n",
    "# img = Image.new('RGB', (image_resolution, image_resolution))\n",
    "img = Image.open(image_path)\n",
    "img = weight_image"
   ]
  },
  {
   "cell_type": "code",
   "execution_count": 11,
   "metadata": {},
   "outputs": [],
   "source": [
    "imageArray = np.array(weight_image)\n",
    "def Weighted_Raster_Centroid(pixels):\n",
    "    cx = 0\n",
    "    cy = 0\n",
    "    total_weight = 0\n",
    "    for pixel in pixels:\n",
    "        sample_x = int(np.floor(pixel[1]))\n",
    "        sample_y = int(np.round(pixel[0]))\n",
    "\n",
    "        sampled_value = imageArray[sample_x][sample_y]\n",
    "\n",
    "        weight = 1 - np.mean(sampled_value) / 255\n",
    "\n",
    "        if weight < 0.05:\n",
    "            weight = 0\n",
    "\n",
    "        total_weight += weight\n",
    "        \n",
    "        cx += pixel[0] * weight\n",
    "        cy += pixel[1] * weight\n",
    "    \n",
    "    if total_weight == 0:\n",
    "        return False\n",
    "\n",
    "    cx /= total_weight\n",
    "    cy /= total_weight\n",
    "    \n",
    "    return [cx, cy]"
   ]
  },
  {
   "cell_type": "code",
   "execution_count": 12,
   "metadata": {},
   "outputs": [],
   "source": [
    "def Lloyd_Relax(seeds, res, weight_image):\n",
    "    vor = Voronoi(seeds)\n",
    "\n",
    "    polygons = []\n",
    "    open_cells = []\n",
    "    for index, region in enumerate(vor.regions):\n",
    "        poly = []\n",
    "        if len(region) == 0:\n",
    "            continue\n",
    "        elif -1 in region:\n",
    "            open_cells.append(index)\n",
    "            continue\n",
    "        for index in region:\n",
    "            if index != -1:\n",
    "                poly.append(vor.vertices[index])\n",
    "            else:\n",
    "                print(\"OUTSIDE\")\n",
    "        \n",
    "        sorted_poly = Sort_Vertices(poly)\n",
    "\n",
    "        polygons.append(sorted_poly)\n",
    "\n",
    "    bbox = [[0,0],[image_resolution,image_resolution]]\n",
    "    centroids = []\n",
    "    for polygon in polygons:\n",
    "\n",
    "        bbox = Raster_BBox(polygon, image_resolution)\n",
    "        rastered_polygon = Scanline_Rasterize_Polygon(polygon, bbox, image_resolution)\n",
    "        # centroid = Raster_Centroid(rastered_polygon)\n",
    "        centroid = Weighted_Raster_Centroid(rastered_polygon)\n",
    "        if centroid:\n",
    "            if centroid[0] < 0:\n",
    "                centroid[0] = 0\n",
    "            elif centroid[0] > image_resolution:\n",
    "                centroid[0] = image_resolution\n",
    "            if centroid[1] < 0:\n",
    "                centroid[1] = 0\n",
    "            elif centroid[1] > image_resolution:\n",
    "                centroid[1] = image_resolution\n",
    "\n",
    "            centroids.append(centroid)\n",
    "    \n",
    "    # new_seeds = centroids\n",
    "    new_seeds = centroids + open_cells\n",
    "\n",
    "    # for seed in new_seeds:\n",
    "    #     x_jitter = (np.random.rand() - 0.5) * jitter_mag\n",
    "    #     y_jitter = (np.random.rand() - 0.5) * jitter_mag\n",
    "    #     seed = [seed[0] + x_jitter, seed[1] + y_jitter]\n",
    "    print(len(open_cells))\n",
    "    return new_seeds"
   ]
  },
  {
   "cell_type": "markdown",
   "metadata": {},
   "source": [
    "Creating seeds"
   ]
  },
  {
   "cell_type": "code",
   "execution_count": 13,
   "metadata": {},
   "outputs": [],
   "source": [
    "seeds = []\n",
    "startseeds = seeds\n",
    "point_count = 250\n",
    "\n",
    "## Rejection sampling\n",
    "low_thresh = 60\n",
    "mid_thresh = 125\n",
    "high_thresh = 225\n",
    "\n",
    "n = 0\n",
    "while n < point_count:\n",
    "    rand_x = np.random.rand() * image_resolution\n",
    "    rand_y = np.random.rand() * image_resolution\n",
    "    sampled_value = weight_image.getpixel((rand_x,rand_y))\n",
    "    if np.mean(sampled_value) < 225:\n",
    "        seeds.append(np.array([rand_x,rand_y]))\n",
    "        n += 1\n",
    "        \n",
    "## Seed image\n",
    "seed_img = Image.open(image_path)\n",
    "draw = ImageDraw.Draw(seed_img)\n",
    "for seed in startseeds:\n",
    "    center_ellipse(seed[0], seed[1],2,'red')\n",
    "\n",
    "seed_img.save(\"seed_image.jpg\")"
   ]
  },
  {
   "cell_type": "code",
   "execution_count": 14,
   "metadata": {},
   "outputs": [
    {
     "name": "stdout",
     "output_type": "stream",
     "text": [
      "14\n",
      "Iteration 0\n"
     ]
    },
    {
     "ename": "TypeError",
     "evalue": "'int' object is not subscriptable",
     "output_type": "error",
     "traceback": [
      "\u001b[1;31m---------------------------------------------------------------------------\u001b[0m",
      "\u001b[1;31mTypeError\u001b[0m                                 Traceback (most recent call last)",
      "\u001b[1;32mc:\\Users\\Tristan Antonsen\\Desktop\\Code\\voronoi-stippling\\stippling_sandbox.ipynb Cell 10'\u001b[0m in \u001b[0;36m<cell line: 7>\u001b[1;34m()\u001b[0m\n\u001b[0;32m     <a href='vscode-notebook-cell:/c%3A/Users/Tristan%20Antonsen/Desktop/Code/voronoi-stippling/stippling_sandbox.ipynb#ch0000019?line=12'>13</a>\u001b[0m draw \u001b[39m=\u001b[39m ImageDraw\u001b[39m.\u001b[39mDraw(img)\n\u001b[0;32m     <a href='vscode-notebook-cell:/c%3A/Users/Tristan%20Antonsen/Desktop/Code/voronoi-stippling/stippling_sandbox.ipynb#ch0000019?line=13'>14</a>\u001b[0m \u001b[39mfor\u001b[39;00m seed \u001b[39min\u001b[39;00m seeds:\n\u001b[1;32m---> <a href='vscode-notebook-cell:/c%3A/Users/Tristan%20Antonsen/Desktop/Code/voronoi-stippling/stippling_sandbox.ipynb#ch0000019?line=14'>15</a>\u001b[0m     center_ellipse(seed[\u001b[39m0\u001b[39;49m], seed[\u001b[39m1\u001b[39m],\u001b[39m2\u001b[39m,\u001b[39m'\u001b[39m\u001b[39mwhite\u001b[39m\u001b[39m'\u001b[39m)\n\u001b[0;32m     <a href='vscode-notebook-cell:/c%3A/Users/Tristan%20Antonsen/Desktop/Code/voronoi-stippling/stippling_sandbox.ipynb#ch0000019?line=15'>16</a>\u001b[0m     img\u001b[39m.\u001b[39msave(\u001b[39mf\u001b[39m\u001b[39m'\u001b[39m\u001b[39msequence/stipple_result_\u001b[39m\u001b[39m{\u001b[39;00mi \u001b[39m+\u001b[39m \u001b[39m1\u001b[39m\u001b[39m}\u001b[39;00m\u001b[39m.png\u001b[39m\u001b[39m'\u001b[39m)\n",
      "\u001b[1;31mTypeError\u001b[0m: 'int' object is not subscriptable"
     ]
    }
   ],
   "source": [
    "img = Image.new('RGB', (image_resolution, image_resolution))\n",
    "draw = ImageDraw.Draw(img)\n",
    "for seed in seeds:\n",
    "    center_ellipse(seed[0], seed[1],2,'white')\n",
    "    img.save(f'sequence/stipple_result_{0}.png')\n",
    "    \n",
    "for i in range(3):\n",
    "    new_seeds = Lloyd_Relax(seeds,res, weight_image)\n",
    "\n",
    "    seeds = new_seeds\n",
    "    print(f\"Iteration {i}\")\n",
    "    img = Image.new('RGB', (image_resolution, image_resolution))\n",
    "    draw = ImageDraw.Draw(img)\n",
    "    for seed in seeds:\n",
    "        center_ellipse(seed[0], seed[1],2,'white')\n",
    "        img.save(f'sequence/stipple_result_{i + 1}.png')\n",
    "\n",
    "\n"
   ]
  }
 ],
 "metadata": {
  "interpreter": {
   "hash": "5b2cd4d236192f6a261c9999f35acf31ddc2292740241caa72680cddfd7111fe"
  },
  "kernelspec": {
   "display_name": "Python 3.9.7 64-bit ('py3': conda)",
   "language": "python",
   "name": "python3"
  },
  "language_info": {
   "codemirror_mode": {
    "name": "ipython",
    "version": 3
   },
   "file_extension": ".py",
   "mimetype": "text/x-python",
   "name": "python",
   "nbconvert_exporter": "python",
   "pygments_lexer": "ipython3",
   "version": "3.9.7"
  },
  "orig_nbformat": 4
 },
 "nbformat": 4,
 "nbformat_minor": 2
}

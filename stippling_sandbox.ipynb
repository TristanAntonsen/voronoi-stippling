{
 "cells": [
  {
   "cell_type": "markdown",
   "metadata": {},
   "source": [
    "Stippling Sandbox"
   ]
  },
  {
   "cell_type": "code",
   "execution_count": 27,
   "metadata": {},
   "outputs": [],
   "source": [
    "from PIL import Image, ImageDraw, ImageFilter\n",
    "from scipy.spatial import Voronoi, voronoi_plot_2d\n",
    "import matplotlib.pyplot as plt\n",
    "import numpy as np\n",
    "from rasterize import Scanline_Rasterize_Polygon, Sort_Vertices, Weighted_Raster_Centroid, Raster_BBox"
   ]
  },
  {
   "cell_type": "code",
   "execution_count": 28,
   "metadata": {},
   "outputs": [],
   "source": [
    "def center_rectangle(x,y,l,w,c):\n",
    "    l = l/2\n",
    "    w = w/2\n",
    "    draw.rectangle([x - w, y - l, x + w, y + l],fill=c)\n",
    "\n",
    "def center_ellipse(x,y,r,c):\n",
    "\n",
    "    draw.ellipse([x - r, y - r, x + r, y + r],fill=c)\n",
    "\n",
    "\n",
    "def Outline_Poly(polygon,color,width):\n",
    "    for i, point in enumerate(polygon):\n",
    "\n",
    "        k = i + 1\n",
    "        if k == len(polygon):\n",
    "            k = 0\n",
    "        point2 = polygon[k]\n",
    "\n",
    "        draw.line((point[0],point[1],point2[0],point2[1]),fill=color, width=width)"
   ]
  },
  {
   "cell_type": "markdown",
   "metadata": {},
   "source": [
    "Image parameters"
   ]
  },
  {
   "cell_type": "code",
   "execution_count": 29,
   "metadata": {},
   "outputs": [],
   "source": [
    "image_resolution = 500\n",
    "image_path = 'sampling/test_im_500.png'\n",
    "# image_path = 'sphere.jpg'\n",
    "weight_image = Image.open(image_path)\n",
    "# weight_image = weight_image.filter(ImageFilter.BoxBlur(2))\n",
    "res = image_resolution\n",
    "jitter_mag = 5\n",
    "\n",
    "scale_factor = image_resolution / res\n",
    "# img = Image.new('RGB', (image_resolution, image_resolution))\n",
    "img = Image.open(image_path)\n",
    "img = weight_image"
   ]
  },
  {
   "cell_type": "code",
   "execution_count": 30,
   "metadata": {},
   "outputs": [],
   "source": [
    "def Lloyd_Relax(seeds, image_resolution, image_array):\n",
    "    vor = Voronoi(seeds)\n",
    "    boundary_seeds = [\n",
    "        np.array([-image_resolution, -image_resolution]),\n",
    "        np.array([2 * image_resolution, -image_resolution]),\n",
    "        np.array([2 * image_resolution, 2 * image_resolution]),\n",
    "        np.array([-image_resolution, 2 * image_resolution])\n",
    "    ]\n",
    "\n",
    "    polygons = []\n",
    "    open_cells = []\n",
    "    for index, region in enumerate(vor.regions):\n",
    "        poly = []\n",
    "        if len(region) == 0:\n",
    "            continue\n",
    "        elif -1 in region:\n",
    "            open_cells.append(region)\n",
    "            continue\n",
    "        for index in region:\n",
    "            if index != -1:\n",
    "                poly.append(vor.vertices[index])\n",
    "            else:\n",
    "                print(\"OUTSIDE\")\n",
    "        \n",
    "        sorted_poly = Sort_Vertices(poly)\n",
    "\n",
    "        polygons.append(sorted_poly)\n",
    "\n",
    "    centroids = []\n",
    "    for polygon in polygons:\n",
    "\n",
    "        bbox = Raster_BBox(polygon, image_resolution)\n",
    "        rastered_polygon = Scanline_Rasterize_Polygon(polygon, bbox, image_resolution)\n",
    "        centroid = Weighted_Raster_Centroid(rastered_polygon, image_array)\n",
    "        if centroid:\n",
    "            if centroid[0] < 0:\n",
    "                centroid[0] = 0\n",
    "            elif centroid[0] > image_resolution:\n",
    "                centroid[0] = image_resolution\n",
    "            if centroid[1] < 0:\n",
    "                centroid[1] = 0\n",
    "            elif centroid[1] > image_resolution:\n",
    "                centroid[1] = image_resolution\n",
    "\n",
    "            centroids.append(centroid)\n",
    "    \n",
    "    new_seeds = boundary_seeds + centroids\n",
    "    # new_seeds = centroids + open_cells\n",
    "\n",
    "    for seed in new_seeds:\n",
    "        x_jitter = (np.random.rand() - 0.5) * jitter_mag\n",
    "        y_jitter = (np.random.rand() - 0.5) * jitter_mag\n",
    "        seed = [seed[0] + x_jitter, seed[1] + y_jitter]\n",
    "    print(len(open_cells))\n",
    "    return new_seeds"
   ]
  },
  {
   "cell_type": "markdown",
   "metadata": {},
   "source": [
    "Creating seeds"
   ]
  },
  {
   "cell_type": "code",
   "execution_count": 31,
   "metadata": {},
   "outputs": [],
   "source": [
    "seeds = [\n",
    "    np.array([-image_resolution, -image_resolution]),\n",
    "    np.array([2 * image_resolution, -image_resolution]),\n",
    "    np.array([2 * image_resolution, 2 * image_resolution]),\n",
    "    np.array([-image_resolution, 2 * image_resolution])\n",
    "]\n",
    "startseeds = seeds\n",
    "point_count = 1000\n",
    "\n",
    "## Rejection sampling\n",
    "# threshold = 150\n",
    "threshold = 256\n",
    "\n",
    "n = 0\n",
    "while n < point_count:\n",
    "    rand_x = np.random.rand() * image_resolution\n",
    "    rand_y = np.random.rand() * image_resolution\n",
    "    sampled_value = weight_image.getpixel((rand_x,rand_y))\n",
    "    if np.mean(sampled_value) < threshold:\n",
    "        seeds.append(np.array([rand_x,rand_y]))\n",
    "        n += 1\n",
    "    # seeds.append(np.array([rand_x,rand_y]))\n",
    "    # n += 1\n",
    "## Seed image\n",
    "seed_img = Image.open(image_path)\n",
    "draw = ImageDraw.Draw(seed_img)\n",
    "for seed in startseeds:\n",
    "    center_ellipse(seed[0], seed[1],2,'red')\n",
    "\n",
    "seed_img.save(\"seed_image.jpg\")"
   ]
  },
  {
   "cell_type": "code",
   "execution_count": 35,
   "metadata": {},
   "outputs": [
    {
     "name": "stdout",
     "output_type": "stream",
     "text": [
      "[[1. 1. 1. ... 1. 1. 1.]\n",
      " [1. 1. 1. ... 1. 1. 1.]\n",
      " [1. 1. 1. ... 1. 1. 1.]\n",
      " ...\n",
      " [1. 1. 1. ... 1. 1. 1.]\n",
      " [1. 1. 1. ... 1. 1. 1.]\n",
      " [1. 1. 1. ... 1. 1. 1.]]\n"
     ]
    }
   ],
   "source": [
    "image_array = np.array(weight_image)\n",
    "weight_array = np.zeros([500,500])\n",
    "pixels = 0\n",
    "for x in range(image_resolution):\n",
    "    for y in range(image_resolution):\n",
    "        pixel = image_array[x,y]\n",
    "        weight_array[x,y] = np.mean(pixel) / 255"
   ]
  },
  {
   "cell_type": "code",
   "execution_count": 33,
   "metadata": {},
   "outputs": [
    {
     "name": "stdout",
     "output_type": "stream",
     "text": [
      "starting relaxation\n",
      "4\n",
      "Iteration 0\n",
      "4\n",
      "Iteration 1\n",
      "4\n",
      "Iteration 2\n",
      "4\n",
      "Iteration 3\n",
      "4\n",
      "Iteration 4\n",
      "4\n",
      "Iteration 5\n",
      "4\n",
      "Iteration 6\n",
      "4\n",
      "Iteration 7\n",
      "4\n",
      "Iteration 8\n",
      "4\n",
      "Iteration 9\n",
      "4\n",
      "Iteration 10\n",
      "4\n",
      "Iteration 11\n",
      "4\n",
      "Iteration 12\n",
      "4\n",
      "Iteration 13\n",
      "4\n",
      "Iteration 14\n",
      "4\n",
      "Iteration 15\n",
      "4\n",
      "Iteration 16\n",
      "4\n",
      "Iteration 17\n",
      "4\n",
      "Iteration 18\n",
      "4\n",
      "Iteration 19\n",
      "4\n",
      "Iteration 20\n",
      "4\n",
      "Iteration 21\n",
      "4\n",
      "Iteration 22\n",
      "4\n",
      "Iteration 23\n",
      "4\n",
      "Iteration 24\n",
      "4\n",
      "Iteration 25\n",
      "4\n",
      "Iteration 26\n",
      "4\n",
      "Iteration 27\n",
      "4\n",
      "Iteration 28\n",
      "4\n",
      "Iteration 29\n"
     ]
    }
   ],
   "source": [
    "img = Image.new('RGB', (image_resolution, image_resolution))\n",
    "draw = ImageDraw.Draw(img)\n",
    "# for seed in seeds:\n",
    "#     center_ellipse(seed[0], seed[1],2,'white')\n",
    "#     img.save(f'sequence/stipple_result_{0}.png')\n",
    "\n",
    "print(\"starting relaxation\")\n",
    "for i in range(30):\n",
    "    new_seeds = Lloyd_Relax(seeds,res, weight_array)\n",
    "\n",
    "    seeds = new_seeds\n",
    "    print(f\"Iteration {i}\")\n",
    "\n",
    "img = Image.new('RGB', (image_resolution, image_resolution))\n",
    "draw = ImageDraw.Draw(img)\n",
    "center_rectangle(image_resolution / 2,image_resolution / 2,image_resolution,image_resolution,'white')\n",
    "for seed in seeds:\n",
    "    center_ellipse(seed[0], seed[1],2,'black')\n",
    "    img.save(f'sequence/stipple_result.png')\n"
   ]
  },
  {
   "cell_type": "code",
   "execution_count": 34,
   "metadata": {},
   "outputs": [],
   "source": [
    "img = Image.new('RGB', (image_resolution * 2, image_resolution * 2))\n",
    "draw = ImageDraw.Draw(img)\n",
    "center_rectangle(image_resolution,image_resolution,image_resolution * 2,image_resolution * 2,'white')\n",
    "for seed in seeds:\n",
    "    center_ellipse(seed[0] * 2, seed[1] * 2,2,'black')\n",
    "    img.save(f'sequence/stipple_result_scaled.png')"
   ]
  }
 ],
 "metadata": {
  "interpreter": {
   "hash": "5b2cd4d236192f6a261c9999f35acf31ddc2292740241caa72680cddfd7111fe"
  },
  "kernelspec": {
   "display_name": "Python 3.9.7 64-bit ('py3': conda)",
   "language": "python",
   "name": "python3"
  },
  "language_info": {
   "codemirror_mode": {
    "name": "ipython",
    "version": 3
   },
   "file_extension": ".py",
   "mimetype": "text/x-python",
   "name": "python",
   "nbconvert_exporter": "python",
   "pygments_lexer": "ipython3",
   "version": "3.9.7"
  },
  "orig_nbformat": 4
 },
 "nbformat": 4,
 "nbformat_minor": 2
}

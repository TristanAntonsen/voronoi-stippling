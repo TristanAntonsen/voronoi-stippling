{
 "cells": [
  {
   "cell_type": "markdown",
   "metadata": {},
   "source": [
    "Stippling Sandbox"
   ]
  },
  {
   "cell_type": "code",
   "execution_count": 1,
   "metadata": {},
   "outputs": [],
   "source": [
    "from PIL import Image, ImageDraw, ImageFilter\n",
    "from scipy.spatial import Voronoi, voronoi_plot_2d\n",
    "import matplotlib.pyplot as plt\n",
    "import numpy as np\n",
    "from rasterize import Scanline_Rasterize_Polygon, Weighted_Raster_Centroid, Raster_BBox\n",
    "from geometry import Sort_Vertices, Create_Seed"
   ]
  },
  {
   "cell_type": "code",
   "execution_count": 2,
   "metadata": {},
   "outputs": [],
   "source": [
    "def center_rectangle(x,y,l,w,c):\n",
    "    l = l/2\n",
    "    w = w/2\n",
    "    draw.rectangle([x - w, y - l, x + w, y + l],fill=c)\n",
    "\n",
    "def center_ellipse(x,y,r,c):\n",
    "\n",
    "    draw.ellipse([x - r, y - r, x + r, y + r],fill=c)\n",
    "\n",
    "\n",
    "def Outline_Poly(polygon,color,width):\n",
    "    for i, point in enumerate(polygon):\n",
    "\n",
    "        k = i + 1\n",
    "        if k == len(polygon):\n",
    "            k = 0\n",
    "        point2 = polygon[k]\n",
    "\n",
    "        draw.line((point[0],point[1],point2[0],point2[1]),fill=color, width=width)"
   ]
  },
  {
   "cell_type": "markdown",
   "metadata": {},
   "source": [
    "Image parameters"
   ]
  },
  {
   "cell_type": "code",
   "execution_count": 3,
   "metadata": {},
   "outputs": [
    {
     "name": "stdout",
     "output_type": "stream",
     "text": [
      "256 256\n"
     ]
    }
   ],
   "source": [
    "# image_resolution = 800\n",
    "image_path = 'sampling/ring.jpg'\n",
    "weight_image = Image.open(image_path)\n",
    "size = 256\n",
    "weight_image = weight_image.resize((size,size))\n",
    "width,height = weight_image.size\n",
    "print(width,height)\n",
    "image_resolution = width\n",
    "# weight_image = weight_image.filter(ImageFilter.BoxBlur(2))\n",
    "\n",
    "# img = Image.open(image_path)\n",
    "img = weight_image"
   ]
  },
  {
   "cell_type": "code",
   "execution_count": 4,
   "metadata": {},
   "outputs": [],
   "source": [
    "def Lloyd_Relax(seeds, image_resolution, image_array):\n",
    "    vor = Voronoi(seeds)\n",
    "    boundary_seeds = [\n",
    "        np.array([-image_resolution, -image_resolution]),\n",
    "        np.array([2 * image_resolution, -image_resolution]),\n",
    "        np.array([2 * image_resolution, 2 * image_resolution]),\n",
    "        np.array([-image_resolution, 2 * image_resolution])\n",
    "    ]\n",
    "\n",
    "    polygons = []\n",
    "    open_cells = []\n",
    "    for index, region in enumerate(vor.regions):\n",
    "        poly = []\n",
    "        if len(region) == 0:\n",
    "            continue\n",
    "        elif -1 in region:\n",
    "            open_cells.append(region)\n",
    "            continue\n",
    "        for index in region:\n",
    "            if index != -1:\n",
    "                poly.append(vor.vertices[index])\n",
    "            else:\n",
    "                print(\"OUTSIDE\")\n",
    "        \n",
    "        sorted_poly = Sort_Vertices(poly)\n",
    "\n",
    "        polygons.append(sorted_poly)\n",
    "\n",
    "    centroids = []\n",
    "    for polygon in polygons:\n",
    "\n",
    "        bbox = Raster_BBox(polygon, image_resolution)\n",
    "        rastered_polygon = Scanline_Rasterize_Polygon(polygon, bbox, image_resolution)\n",
    "        centroid = Weighted_Raster_Centroid(rastered_polygon, image_array)\n",
    "        if centroid:\n",
    "            if centroid[0] < 0 or centroid[0] >= image_resolution or centroid[1] < 0 or centroid[1] >= image_resolution:\n",
    "                centroids.append(Create_Seed(image_resolution, 100, weight_image))\n",
    "            else:\n",
    "                centroids.append(centroid)\n",
    "        else:\n",
    "            centroids.append(Create_Seed(image_resolution, 100, weight_image))\n",
    "            \n",
    "    \n",
    "    new_seeds = boundary_seeds + centroids\n",
    "\n",
    "    return new_seeds"
   ]
  },
  {
   "cell_type": "markdown",
   "metadata": {},
   "source": [
    "Creating seeds"
   ]
  },
  {
   "cell_type": "code",
   "execution_count": 5,
   "metadata": {},
   "outputs": [],
   "source": [
    "seeds = [\n",
    "    np.array([-image_resolution, -image_resolution]),\n",
    "    np.array([2 * image_resolution, -image_resolution]),\n",
    "    np.array([2 * image_resolution, 2 * image_resolution]),\n",
    "    np.array([-image_resolution, 2 * image_resolution])\n",
    "]\n",
    "startseeds = seeds\n",
    "point_count = 100\n",
    "\n",
    "## Rejection sampling\n",
    "threshold = 150\n",
    "# threshold = 256\n",
    "\n",
    "n = 0\n",
    "for i in range(point_count):\n",
    "    seeds.append(Create_Seed(image_resolution, threshold, weight_image))\n",
    "# while n < point_count:\n",
    "    # rand_x = np.random.rand() * image_resolution\n",
    "    # rand_y = np.random.rand() * image_resolution\n",
    "    # sampled_value = weight_image.getpixel((rand_x,rand_y))\n",
    "    # if np.mean(sampled_value) < threshold:\n",
    "    #     seeds.append(np.array([rand_x,rand_y]))\n",
    "    #     n += 1\n",
    "\n",
    "## Seed image\n",
    "seed_img = Image.open(image_path)\n",
    "draw = ImageDraw.Draw(seed_img)\n",
    "for seed in startseeds:\n",
    "    center_ellipse(seed[0], seed[1],1,'red')\n",
    "\n",
    "seed_img.save(\"seed_image.jpg\")"
   ]
  },
  {
   "cell_type": "code",
   "execution_count": 11,
   "metadata": {},
   "outputs": [
    {
     "name": "stdout",
     "output_type": "stream",
     "text": [
      "0\n"
     ]
    }
   ],
   "source": [
    "image_array = np.array(weight_image)\n",
    "weight_array = np.zeros([image_resolution,image_resolution])\n",
    "pixels = 0\n",
    "for x in range(image_resolution):\n",
    "    for y in range(image_resolution):\n",
    "        pixel = image_array[x,y]\n",
    "        weight_array[x,y] = (np.mean(pixel) / 255)"
   ]
  },
  {
   "cell_type": "code",
   "execution_count": 7,
   "metadata": {},
   "outputs": [
    {
     "name": "stdout",
     "output_type": "stream",
     "text": [
      "starting relaxation\n",
      "Iteration 0\n",
      "Iteration 1\n",
      "Iteration 2\n",
      "Iteration 3\n",
      "Iteration 4\n",
      "Iteration 5\n",
      "Iteration 6\n",
      "Iteration 7\n",
      "Iteration 8\n",
      "Iteration 9\n",
      "Iteration 10\n",
      "Iteration 11\n",
      "Iteration 12\n",
      "Iteration 13\n",
      "Iteration 14\n",
      "Iteration 15\n",
      "Iteration 16\n",
      "Iteration 17\n",
      "Iteration 18\n",
      "Iteration 19\n",
      "Iteration 20\n",
      "Iteration 21\n",
      "Iteration 22\n",
      "Iteration 23\n",
      "Iteration 24\n",
      "Iteration 25\n",
      "Iteration 26\n",
      "Iteration 27\n",
      "Iteration 28\n",
      "Iteration 29\n",
      "Iteration 30\n",
      "Iteration 31\n",
      "Iteration 32\n",
      "Iteration 33\n",
      "Iteration 34\n",
      "Iteration 35\n",
      "Iteration 36\n"
     ]
    },
    {
     "ename": "KeyboardInterrupt",
     "evalue": "",
     "output_type": "error",
     "traceback": [
      "\u001b[1;31m---------------------------------------------------------------------------\u001b[0m",
      "\u001b[1;31mKeyboardInterrupt\u001b[0m                         Traceback (most recent call last)",
      "\u001b[1;32mc:\\Users\\Tristan Antonsen\\Desktop\\Code\\voronoi-stippling\\stippling_sandbox.ipynb Cell 10'\u001b[0m in \u001b[0;36m<cell line: 10>\u001b[1;34m()\u001b[0m\n\u001b[0;32m     <a href='vscode-notebook-cell:/c%3A/Users/Tristan%20Antonsen/Desktop/Code/voronoi-stippling/stippling_sandbox.ipynb#X12sZmlsZQ%3D%3D?line=9'>10</a>\u001b[0m \u001b[39mfor\u001b[39;00m i \u001b[39min\u001b[39;00m \u001b[39mrange\u001b[39m(\u001b[39m50\u001b[39m):\n\u001b[0;32m     <a href='vscode-notebook-cell:/c%3A/Users/Tristan%20Antonsen/Desktop/Code/voronoi-stippling/stippling_sandbox.ipynb#X12sZmlsZQ%3D%3D?line=10'>11</a>\u001b[0m     center_rectangle(image_resolution,image_resolution,image_resolution \u001b[39m*\u001b[39m \u001b[39m2\u001b[39m,image_resolution \u001b[39m*\u001b[39m \u001b[39m2\u001b[39m,\u001b[39m'\u001b[39m\u001b[39mwhite\u001b[39m\u001b[39m'\u001b[39m)\n\u001b[1;32m---> <a href='vscode-notebook-cell:/c%3A/Users/Tristan%20Antonsen/Desktop/Code/voronoi-stippling/stippling_sandbox.ipynb#X12sZmlsZQ%3D%3D?line=11'>12</a>\u001b[0m     new_seeds \u001b[39m=\u001b[39m Lloyd_Relax(seeds,image_resolution, weight_array)\n\u001b[0;32m     <a href='vscode-notebook-cell:/c%3A/Users/Tristan%20Antonsen/Desktop/Code/voronoi-stippling/stippling_sandbox.ipynb#X12sZmlsZQ%3D%3D?line=13'>14</a>\u001b[0m     seeds \u001b[39m=\u001b[39m new_seeds\n\u001b[0;32m     <a href='vscode-notebook-cell:/c%3A/Users/Tristan%20Antonsen/Desktop/Code/voronoi-stippling/stippling_sandbox.ipynb#X12sZmlsZQ%3D%3D?line=14'>15</a>\u001b[0m     \u001b[39mprint\u001b[39m(\u001b[39mf\u001b[39m\u001b[39m\"\u001b[39m\u001b[39mIteration \u001b[39m\u001b[39m{\u001b[39;00mi\u001b[39m}\u001b[39;00m\u001b[39m\"\u001b[39m)\n",
      "\u001b[1;32mc:\\Users\\Tristan Antonsen\\Desktop\\Code\\voronoi-stippling\\stippling_sandbox.ipynb Cell 6'\u001b[0m in \u001b[0;36mLloyd_Relax\u001b[1;34m(seeds, image_resolution, image_array)\u001b[0m\n\u001b[0;32m     <a href='vscode-notebook-cell:/c%3A/Users/Tristan%20Antonsen/Desktop/Code/voronoi-stippling/stippling_sandbox.ipynb#W5sZmlsZQ%3D%3D?line=31'>32</a>\u001b[0m bbox \u001b[39m=\u001b[39m Raster_BBox(polygon, image_resolution)\n\u001b[0;32m     <a href='vscode-notebook-cell:/c%3A/Users/Tristan%20Antonsen/Desktop/Code/voronoi-stippling/stippling_sandbox.ipynb#W5sZmlsZQ%3D%3D?line=32'>33</a>\u001b[0m rastered_polygon \u001b[39m=\u001b[39m Scanline_Rasterize_Polygon(polygon, bbox, image_resolution)\n\u001b[1;32m---> <a href='vscode-notebook-cell:/c%3A/Users/Tristan%20Antonsen/Desktop/Code/voronoi-stippling/stippling_sandbox.ipynb#W5sZmlsZQ%3D%3D?line=33'>34</a>\u001b[0m centroid \u001b[39m=\u001b[39m Weighted_Raster_Centroid(rastered_polygon, image_array)\n\u001b[0;32m     <a href='vscode-notebook-cell:/c%3A/Users/Tristan%20Antonsen/Desktop/Code/voronoi-stippling/stippling_sandbox.ipynb#W5sZmlsZQ%3D%3D?line=34'>35</a>\u001b[0m \u001b[39mif\u001b[39;00m centroid:\n\u001b[0;32m     <a href='vscode-notebook-cell:/c%3A/Users/Tristan%20Antonsen/Desktop/Code/voronoi-stippling/stippling_sandbox.ipynb#W5sZmlsZQ%3D%3D?line=35'>36</a>\u001b[0m     \u001b[39mif\u001b[39;00m centroid[\u001b[39m0\u001b[39m] \u001b[39m<\u001b[39m \u001b[39m0\u001b[39m \u001b[39mor\u001b[39;00m centroid[\u001b[39m0\u001b[39m] \u001b[39m>\u001b[39m\u001b[39m=\u001b[39m image_resolution \u001b[39mor\u001b[39;00m centroid[\u001b[39m1\u001b[39m] \u001b[39m<\u001b[39m \u001b[39m0\u001b[39m \u001b[39mor\u001b[39;00m centroid[\u001b[39m1\u001b[39m] \u001b[39m>\u001b[39m\u001b[39m=\u001b[39m image_resolution:\n",
      "File \u001b[1;32mc:\\Users\\Tristan Antonsen\\Desktop\\Code\\voronoi-stippling\\rasterize.py:112\u001b[0m, in \u001b[0;36mWeighted_Raster_Centroid\u001b[1;34m(pixels, image_array)\u001b[0m\n\u001b[0;32m    <a href='file:///c%3A/Users/Tristan%20Antonsen/Desktop/Code/voronoi-stippling/rasterize.py?line=108'>109</a>\u001b[0m     cy \u001b[39m+\u001b[39m\u001b[39m=\u001b[39m pixel[\u001b[39m1\u001b[39m] \u001b[39m*\u001b[39m weight\n\u001b[0;32m    <a href='file:///c%3A/Users/Tristan%20Antonsen/Desktop/Code/voronoi-stippling/rasterize.py?line=110'>111</a>\u001b[0m     \u001b[39m# i += increment_size\u001b[39;00m\n\u001b[1;32m--> <a href='file:///c%3A/Users/Tristan%20Antonsen/Desktop/Code/voronoi-stippling/rasterize.py?line=111'>112</a>\u001b[0m     i \u001b[39m+\u001b[39m\u001b[39m=\u001b[39m \u001b[39m1\u001b[39m\n\u001b[0;32m    <a href='file:///c%3A/Users/Tristan%20Antonsen/Desktop/Code/voronoi-stippling/rasterize.py?line=114'>115</a>\u001b[0m \u001b[39mif\u001b[39;00m total_weight \u001b[39m==\u001b[39m \u001b[39m0\u001b[39m:\n\u001b[0;32m    <a href='file:///c%3A/Users/Tristan%20Antonsen/Desktop/Code/voronoi-stippling/rasterize.py?line=115'>116</a>\u001b[0m     total_weight \u001b[39m=\u001b[39m pixel_count\n",
      "\u001b[1;31mKeyboardInterrupt\u001b[0m: "
     ]
    }
   ],
   "source": [
    "img = Image.new('RGB', (image_resolution * 2, image_resolution * 2))\n",
    "draw = ImageDraw.Draw(img)\n",
    "center_rectangle(image_resolution,image_resolution,image_resolution * 2,image_resolution * 2,'white')\n",
    "\n",
    "for seed in seeds:\n",
    "    center_ellipse(seed[0] * 2, seed[1] * 2,2,'black')\n",
    "img.save(f'sequence/stipple_result_{0}.png')\n",
    "\n",
    "print(\"starting relaxation\")\n",
    "for i in range(50):\n",
    "    center_rectangle(image_resolution,image_resolution,image_resolution * 2,image_resolution * 2,'white')\n",
    "    new_seeds = Lloyd_Relax(seeds,image_resolution, weight_array)\n",
    "\n",
    "    seeds = new_seeds\n",
    "    print(f\"Iteration {i}\")\n",
    "\n",
    "    # for seed in seeds:\n",
    "    #     center_ellipse(seed[0] * 2, seed[1] * 2,2,'black')\n",
    "    # img.save(f'sequence/stipple_result_{i + 1}.png')\n"
   ]
  },
  {
   "cell_type": "code",
   "execution_count": null,
   "metadata": {},
   "outputs": [],
   "source": [
    "final_scale = 6\n",
    "img = Image.new('RGB', (image_resolution * final_scale, image_resolution * final_scale))\n",
    "draw = ImageDraw.Draw(img)\n",
    "center_rectangle(image_resolution * final_scale / 2,image_resolution * final_scale / 2,image_resolution * final_scale,image_resolution * final_scale,'white')\n",
    "for seed in seeds:\n",
    "    center_ellipse(seed[0] * final_scale, seed[1] * final_scale,5,'black')\n",
    "img.save(f'sequence/stipple_result_scaled.png')"
   ]
  }
 ],
 "metadata": {
  "interpreter": {
   "hash": "5b2cd4d236192f6a261c9999f35acf31ddc2292740241caa72680cddfd7111fe"
  },
  "kernelspec": {
   "display_name": "Python 3.9.7 64-bit ('py3': conda)",
   "language": "python",
   "name": "python3"
  },
  "language_info": {
   "codemirror_mode": {
    "name": "ipython",
    "version": 3
   },
   "file_extension": ".py",
   "mimetype": "text/x-python",
   "name": "python",
   "nbconvert_exporter": "python",
   "pygments_lexer": "ipython3",
   "version": "3.9.7"
  },
  "orig_nbformat": 4
 },
 "nbformat": 4,
 "nbformat_minor": 2
}

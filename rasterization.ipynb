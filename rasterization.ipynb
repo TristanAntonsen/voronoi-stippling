{
 "cells": [
  {
   "cell_type": "markdown",
   "metadata": {},
   "source": [
    "# Rasterizing a voronoi diagram"
   ]
  },
  {
   "cell_type": "code",
   "execution_count": 789,
   "metadata": {},
   "outputs": [],
   "source": [
    "from PIL import Image, ImageDraw\n",
    "from scipy.spatial import Voronoi, voronoi_plot_2d\n",
    "import matplotlib.pyplot as plt\n",
    "import numpy as np"
   ]
  },
  {
   "cell_type": "code",
   "execution_count": 790,
   "metadata": {},
   "outputs": [],
   "source": [
    "def center_ellipse(x,y,r,c):\n",
    "\n",
    "    draw.ellipse([x - r, y - r, x + r, y + r],fill=c)\n",
    "\n",
    "def center_rectangle(x,y,l,w,c):\n",
    "    l = l/2\n",
    "    w = w/2\n",
    "    draw.rectangle([x - w, y - l, x + w, y + l],fill=c)"
   ]
  },
  {
   "cell_type": "markdown",
   "metadata": {},
   "source": [
    "Drawing a grid of pixels"
   ]
  },
  {
   "cell_type": "code",
   "execution_count": 791,
   "metadata": {},
   "outputs": [],
   "source": [
    "res = 100\n",
    "image_resolution = 1080\n",
    "offset = 0.5\n",
    "scale_factor = image_resolution / res\n",
    "\n",
    "img = Image.new('RGB', (image_resolution, image_resolution))\n",
    "draw = ImageDraw.Draw(img)\n",
    "\n",
    "for x in range(res):\n",
    "    for y in range(res):\n",
    "        center_rectangle((x + 0.5) * scale_factor, (y + 0.5) * scale_factor, scale_factor - 2, scale_factor - 2, 'blue')\n",
    "# draw.rectangle([0,0,image_resolution,image_resolution],fill=\"white\")\n",
    "img.save('pixels.png')"
   ]
  },
  {
   "cell_type": "markdown",
   "metadata": {},
   "source": [
    "Rasterizing a single polygon"
   ]
  },
  {
   "cell_type": "code",
   "execution_count": 792,
   "metadata": {},
   "outputs": [],
   "source": [
    "triangle = np.array([[15,10],[75,20],[60,60]])\n",
    "\n",
    "# for vert in triangle:\n",
    "#     x = vert[0] * scale_factor\n",
    "#     y = vert[1] * scale_factor\n",
    "#     center_ellipse(x,y,10,'white')\n",
    "\n",
    "# img.save('pixels.png')"
   ]
  },
  {
   "cell_type": "markdown",
   "metadata": {},
   "source": [
    "Edge function"
   ]
  },
  {
   "cell_type": "code",
   "execution_count": 793,
   "metadata": {},
   "outputs": [],
   "source": [
    "def Edge_Function(_v0, _v1, _p):\n",
    "    #Assumes clockwise order\n",
    "    result = (_p[0] - _v0[0]) * (_v1[1] - _v0[1]) - (_p[1] - _v0[1]) * (_v1[0] - _v0[0])\n",
    "    \n",
    "    if result <= 0:\n",
    "        return True\n",
    "    else:\n",
    "        return False"
   ]
  },
  {
   "cell_type": "markdown",
   "metadata": {},
   "source": [
    "Single edge case"
   ]
  },
  {
   "cell_type": "code",
   "execution_count": 794,
   "metadata": {},
   "outputs": [],
   "source": [
    "img = Image.open('pixels.png')\n",
    "draw = ImageDraw.Draw(img)\n",
    "\n",
    "for x in range(res):\n",
    "    for y in range(res):\n",
    "        state = Edge_Function(triangle[0],triangle[1],[x,y])\n",
    "        if state:\n",
    "            center_rectangle((x + 0.5) * scale_factor, (y + 0.5) * scale_factor, scale_factor - 2, scale_factor - 2, 'blue')\n",
    "        else:\n",
    "            center_rectangle((x + 0.5) * scale_factor, (y + 0.5) * scale_factor, scale_factor - 2, scale_factor - 2, 'red')\n",
    "img.save('pixels.png')"
   ]
  },
  {
   "cell_type": "markdown",
   "metadata": {},
   "source": [
    "Rasterizing a triangle"
   ]
  },
  {
   "cell_type": "code",
   "execution_count": 795,
   "metadata": {},
   "outputs": [
    {
     "name": "stdout",
     "output_type": "stream",
     "text": [
      "total operations: 10000\n"
     ]
    }
   ],
   "source": [
    "img = Image.open('pixels.png')\n",
    "draw = ImageDraw.Draw(img)\n",
    "op_count = 0\n",
    "for x in range(res):\n",
    "    for y in range(res):\n",
    "        edge0 = Edge_Function(triangle[0],triangle[1],[x,y])\n",
    "        edge1 = Edge_Function(triangle[1],triangle[2],[x,y])\n",
    "        edge2 = Edge_Function(triangle[2],triangle[0],[x,y])\n",
    "        \n",
    "        \n",
    "        if edge0 and edge1 and edge2:\n",
    "            center_rectangle((x + 0.5) * scale_factor, (y + 0.5) * scale_factor, scale_factor - 2, scale_factor - 2, 'red')\n",
    "        else:\n",
    "            center_rectangle((x + 0.5) * scale_factor, (y + 0.5) * scale_factor, scale_factor - 2, scale_factor - 2, 'blue')\n",
    "        op_count += 1\n",
    "img.save('pixels.png')\n",
    "print(f\"total operations: {op_count}\")"
   ]
  },
  {
   "cell_type": "markdown",
   "metadata": {},
   "source": [
    "Optimizing by reducing pixel search to bounding box"
   ]
  },
  {
   "cell_type": "code",
   "execution_count": 796,
   "metadata": {},
   "outputs": [
    {
     "name": "stdout",
     "output_type": "stream",
     "text": [
      "([15, 76], [10, 61])\n",
      "total operations: 3111\n"
     ]
    }
   ],
   "source": [
    "def Bounding_Box(triangle):\n",
    "    x_vals = []\n",
    "    y_vals = []\n",
    "    for vert in triangle:\n",
    "        x_vals.append(vert[0])\n",
    "        y_vals.append(vert[1])\n",
    "\n",
    "    x_min = np.min(x_vals)\n",
    "    x_max = np.max(x_vals) + 1 #account for\n",
    "    y_min = np.min(y_vals)\n",
    "    y_max = np.max(y_vals) + 1 #account for\n",
    "\n",
    "    return ([x_min, x_max],[y_min,y_max])\n",
    "\n",
    "img = Image.open('pixels.png')\n",
    "draw = ImageDraw.Draw(img)\n",
    "\n",
    "bbox = Bounding_Box(triangle)\n",
    "op_count = 0\n",
    "print(bbox)\n",
    "for x in range(*bbox[0]):\n",
    "    for y in range(*bbox[1]):\n",
    "            \n",
    "            edge0 = Edge_Function(triangle[0],triangle[1],[x,y])\n",
    "            edge1 = Edge_Function(triangle[1],triangle[2],[x,y])\n",
    "            edge2 = Edge_Function(triangle[2],triangle[0],[x,y])\n",
    "            \n",
    "            \n",
    "            if edge0 and edge1 and edge2:\n",
    "                center_rectangle((x + 0.5) * scale_factor, (y + 0.5) * scale_factor, scale_factor - 2, scale_factor - 2, 'red')\n",
    "            else:\n",
    "                center_rectangle((x + 0.5) * scale_factor, (y + 0.5) * scale_factor, scale_factor - 2, scale_factor - 2, 'blue')\n",
    "                center_ellipse((x + 0.5) * scale_factor, (y + 0.5) * scale_factor, 2, 'white')\n",
    "            op_count += 1\n",
    "img.save('pixels.png')\n",
    "print(f\"total operations: {op_count}\")\n"
   ]
  },
  {
   "cell_type": "markdown",
   "metadata": {},
   "source": [
    "Rasterizing a Polygon"
   ]
  },
  {
   "cell_type": "markdown",
   "metadata": {},
   "source": [
    "Must be convex & ordered"
   ]
  },
  {
   "cell_type": "code",
   "execution_count": 797,
   "metadata": {},
   "outputs": [
    {
     "name": "stdout",
     "output_type": "stream",
     "text": [
      "([15, 76], [10, 61])\n"
     ]
    }
   ],
   "source": [
    "polygon = np.array([[15,10],[75,20],[80,40],[70,80],[50,90],[10,50]])\n",
    "\n",
    "img = Image.open('pixels.png')\n",
    "draw = ImageDraw.Draw(img)\n",
    "\n",
    "\n",
    "print(bbox)\n",
    "\n",
    "def Rasterize_Polygon(polygon, color, background):\n",
    "\n",
    "    \n",
    "    bbox = Bounding_Box(polygon)\n",
    "\n",
    "    for x in range(*bbox[0]):\n",
    "        for y in range(*bbox[1]):\n",
    "                state = True\n",
    "                vertex_count = len(polygon)\n",
    "\n",
    "                for i in range(vertex_count):\n",
    "                    v0 = i\n",
    "                    v1 = i + 1\n",
    "                    if v1 == vertex_count:\n",
    "                        v1 = 0\n",
    "                    edge_state = Edge_Function(polygon[v0],polygon[v1],[x,y])\n",
    "                    state = state and edge_state\n",
    "                \n",
    "                # if edge0 and edge1 and edge2 and edge3 and edge4 and edge5:\n",
    "                if state:\n",
    "                    center_rectangle((x + 0.5) * scale_factor, (y + 0.5) * scale_factor, scale_factor - 2, scale_factor - 2, color)\n",
    "                else:\n",
    "                    center_rectangle((x + 0.5) * scale_factor, (y + 0.5) * scale_factor, scale_factor - 2, scale_factor - 2, background)\n",
    "                    center_ellipse((x + 0.5) * scale_factor, (y + 0.5) * scale_factor, 2, 'white')\n",
    "\n",
    "\n",
    "\n",
    "    img.save('pixels.png')\n",
    "\n",
    "for vert in polygon:\n",
    "    x = vert[0] * scale_factor\n",
    "    y = vert[1] * scale_factor\n",
    "    center_ellipse(x,y,10,'white')\n",
    "\n",
    "Rasterize_Polygon(polygon,'red','blue')"
   ]
  },
  {
   "cell_type": "markdown",
   "metadata": {},
   "source": [
    "Sorting a polygon:"
   ]
  },
  {
   "cell_type": "code",
   "execution_count": 798,
   "metadata": {},
   "outputs": [],
   "source": [
    "unsorted_polygon = np.array([[75,20],[80,40],[15,10],[70,80],[50,90],[10,50]])\n",
    "\n",
    "img = Image.open('pixels.png')\n",
    "draw = ImageDraw.Draw(img)\n",
    "\n",
    "r = 5\n",
    "for vert in unsorted_polygon:\n",
    "    x = vert[0] * scale_factor\n",
    "    y = vert[1] * scale_factor\n",
    "    center_ellipse(x,y,r,'white')\n",
    "    r *= 1.5\n",
    "# img.save('pixels.png')\n"
   ]
  },
  {
   "cell_type": "code",
   "execution_count": 803,
   "metadata": {},
   "outputs": [
    {
     "name": "stdout",
     "output_type": "stream",
     "text": [
      "[50 90] [50 90]\n",
      "[70 80] [70 80]\n",
      "[75 20] [75 20]\n",
      "[15 10] [15 10]\n",
      "[80 40] [80 40]\n",
      "[10 50] [10 50]\n"
     ]
    }
   ],
   "source": [
    "def Calculate_Centroid(polygon):\n",
    "    x = 0\n",
    "    y = 0\n",
    "    for vert in polygon:\n",
    "        x += vert[0]\n",
    "        y += vert[1]\n",
    "    x /= len(polygon)\n",
    "    y /= len(polygon)\n",
    "\n",
    "    return [x,y]\n",
    "\n",
    "def Sort_Vertices(polygon):\n",
    "    angles = []\n",
    "    centroid = Calculate_Centroid(polygon)\n",
    "    vA = np.array([0,1,0])\n",
    "    for vert in polygon:\n",
    "        x = vert[0]\n",
    "        y = vert[1]\n",
    "        vB = np.array([centroid[0] - x, centroid[1] - y,0])\n",
    "        \n",
    "        numerator = np.linalg.norm(np.cross(vA,vB))\n",
    "        denominator = np.linalg.norm(vA) * np.linalg.norm(vB)\n",
    "        theta = np.arcsin(numerator / denominator)\n",
    "        angles.append(theta)\n",
    "\n",
    "    sorted_verts = [x for _, x in sorted(zip(angles, polygon))]\n",
    "\n",
    "\n",
    "    return sorted_verts\n",
    "\n",
    "# print(polygon)\n",
    "unsorted_sorted = (Sort_Vertices(unsorted_polygon))\n",
    "sorted_sorted = (Sort_Vertices(polygon))\n",
    "\n",
    "for x, y in zip(unsorted_sorted,sorted_sorted):\n",
    "    print(x,y)\n",
    "# img = Image.open('pixels.png')\n",
    "# draw = ImageDraw.Draw(img)\n",
    "# centroid = Calculate_Centroid(unsorted_polygon)\n",
    "# center_ellipse(centroid[0] * scale_factor,centroid[1] * scale_factor,10,'white')\n",
    "# img.save('pixels.png')\n",
    "\n"
   ]
  },
  {
   "cell_type": "markdown",
   "metadata": {},
   "source": [
    "Drawing seeds"
   ]
  },
  {
   "cell_type": "code",
   "execution_count": 800,
   "metadata": {},
   "outputs": [],
   "source": [
    "# point_count = 25\n",
    "# seeds = np.random.rand(point_count,2) * res\n",
    "# startseeds = seeds\n",
    "\n",
    "# img = Image.open('pixels.png')\n",
    "# draw = ImageDraw.Draw(img)\n",
    "\n",
    "# for seed in seeds:\n",
    "#     x = seed[0] * scale_factor\n",
    "#     y = seed[1] * scale_factor\n",
    "#     center_ellipse(x,y,10,'white')\n",
    "# img.save('pixels.png')"
   ]
  },
  {
   "cell_type": "markdown",
   "metadata": {},
   "source": [
    "Creating voronoi diagram"
   ]
  },
  {
   "cell_type": "code",
   "execution_count": 801,
   "metadata": {},
   "outputs": [],
   "source": [
    "# vor = Voronoi(seeds)"
   ]
  }
 ],
 "metadata": {
  "interpreter": {
   "hash": "5b2cd4d236192f6a261c9999f35acf31ddc2292740241caa72680cddfd7111fe"
  },
  "kernelspec": {
   "display_name": "Python 3.9.7 64-bit ('py3': conda)",
   "language": "python",
   "name": "python3"
  },
  "language_info": {
   "codemirror_mode": {
    "name": "ipython",
    "version": 3
   },
   "file_extension": ".py",
   "mimetype": "text/x-python",
   "name": "python",
   "nbconvert_exporter": "python",
   "pygments_lexer": "ipython3",
   "version": "3.9.7"
  },
  "orig_nbformat": 4
 },
 "nbformat": 4,
 "nbformat_minor": 2
}

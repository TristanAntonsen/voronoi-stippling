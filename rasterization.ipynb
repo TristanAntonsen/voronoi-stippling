{
 "cells": [
  {
   "cell_type": "markdown",
   "metadata": {},
   "source": [
    "# Rasterizing a voronoi diagram"
   ]
  },
  {
   "cell_type": "code",
   "execution_count": 74,
   "metadata": {},
   "outputs": [],
   "source": [
    "from PIL import Image, ImageDraw\n",
    "from scipy.spatial import Voronoi, voronoi_plot_2d\n",
    "import matplotlib.pyplot as plt\n",
    "import numpy as np"
   ]
  },
  {
   "cell_type": "code",
   "execution_count": 75,
   "metadata": {},
   "outputs": [],
   "source": [
    "def center_ellipse(x,y,r,c):\n",
    "\n",
    "    draw.ellipse([x - r, y - r, x + r, y + r],fill=c)\n",
    "\n",
    "def center_rectangle(x,y,l,w,c):\n",
    "    l = l/2\n",
    "    w = w/2\n",
    "    draw.rectangle([x - w, y - l, x + w, y + l],fill=c)"
   ]
  },
  {
   "cell_type": "markdown",
   "metadata": {},
   "source": [
    "Drawing a grid of pixels"
   ]
  },
  {
   "cell_type": "code",
   "execution_count": 76,
   "metadata": {},
   "outputs": [],
   "source": [
    "res = 100\n",
    "image_resolution = 1080\n",
    "offset = 0.5\n",
    "scale_factor = image_resolution / res\n",
    "\n",
    "img = Image.new('RGB', (image_resolution, image_resolution))\n",
    "draw = ImageDraw.Draw(img)\n",
    "\n",
    "for x in range(res):\n",
    "    for y in range(res):\n",
    "        center_rectangle((x + 0.5) * scale_factor, (y + 0.5) * scale_factor, scale_factor - 2, scale_factor - 2, 'blue')\n",
    "# draw.rectangle([0,0,image_resolution,image_resolution],fill=\"white\")\n",
    "img.save('pixels.png')"
   ]
  },
  {
   "cell_type": "markdown",
   "metadata": {},
   "source": [
    "Rasterizing a single polygon"
   ]
  },
  {
   "cell_type": "code",
   "execution_count": 77,
   "metadata": {},
   "outputs": [],
   "source": [
    "triangle = np.array([[15,10],[75,20],[60,60]])\n",
    "\n",
    "# for vert in triangle:\n",
    "#     x = vert[0] * scale_factor\n",
    "#     y = vert[1] * scale_factor\n",
    "#     center_ellipse(x,y,10,'white')\n",
    "\n",
    "# img.save('pixels.png')"
   ]
  },
  {
   "cell_type": "markdown",
   "metadata": {},
   "source": [
    "Edge function"
   ]
  },
  {
   "cell_type": "code",
   "execution_count": 78,
   "metadata": {},
   "outputs": [],
   "source": [
    "def Edge_Function(_v0, _v1, _p):\n",
    "    #Assumes clockwise order\n",
    "    result = (_p[0] - _v0[0]) * (_v1[1] - _v0[1]) - (_p[1] - _v0[1]) * (_v1[0] - _v0[0])\n",
    "    \n",
    "    if result <= 0:\n",
    "        return True\n",
    "    else:\n",
    "        return False"
   ]
  },
  {
   "cell_type": "markdown",
   "metadata": {},
   "source": [
    "Single edge case"
   ]
  },
  {
   "cell_type": "code",
   "execution_count": 79,
   "metadata": {},
   "outputs": [],
   "source": [
    "img = Image.open('pixels.png')\n",
    "draw = ImageDraw.Draw(img)\n",
    "\n",
    "for x in range(res):\n",
    "    for y in range(res):\n",
    "        state = Edge_Function(triangle[0],triangle[1],[x,y])\n",
    "        if state:\n",
    "            center_rectangle((x + 0.5) * scale_factor, (y + 0.5) * scale_factor, scale_factor - 2, scale_factor - 2, 'blue')\n",
    "        else:\n",
    "            center_rectangle((x + 0.5) * scale_factor, (y + 0.5) * scale_factor, scale_factor - 2, scale_factor - 2, 'red')\n",
    "img.save('pixels.png')"
   ]
  },
  {
   "cell_type": "markdown",
   "metadata": {},
   "source": [
    "Rasterizing a triangle"
   ]
  },
  {
   "cell_type": "code",
   "execution_count": 80,
   "metadata": {},
   "outputs": [
    {
     "name": "stdout",
     "output_type": "stream",
     "text": [
      "total operations: 10000\n"
     ]
    }
   ],
   "source": [
    "img = Image.open('pixels.png')\n",
    "draw = ImageDraw.Draw(img)\n",
    "op_count = 0\n",
    "for x in range(res):\n",
    "    for y in range(res):\n",
    "        edge0 = Edge_Function(triangle[0],triangle[1],[x,y])\n",
    "        edge1 = Edge_Function(triangle[1],triangle[2],[x,y])\n",
    "        edge2 = Edge_Function(triangle[2],triangle[0],[x,y])\n",
    "        \n",
    "        \n",
    "        if edge0 and edge1 and edge2:\n",
    "            center_rectangle((x + 0.5) * scale_factor, (y + 0.5) * scale_factor, scale_factor - 2, scale_factor - 2, 'red')\n",
    "        else:\n",
    "            center_rectangle((x + 0.5) * scale_factor, (y + 0.5) * scale_factor, scale_factor - 2, scale_factor - 2, 'blue')\n",
    "        op_count += 1\n",
    "img.save('pixels.png')\n",
    "print(f\"total operations: {op_count}\")"
   ]
  },
  {
   "cell_type": "markdown",
   "metadata": {},
   "source": [
    "Optimizing by reducing pixel search to bounding box"
   ]
  },
  {
   "cell_type": "code",
   "execution_count": 81,
   "metadata": {},
   "outputs": [
    {
     "name": "stdout",
     "output_type": "stream",
     "text": [
      "([15, 76], [10, 61])\n",
      "total operations: 3111\n"
     ]
    }
   ],
   "source": [
    "def Bounding_Box(polygon):\n",
    "    x_vals = []\n",
    "    y_vals = []\n",
    "    for vert in polygon:\n",
    "        x_vals.append(vert[0])\n",
    "        y_vals.append(vert[1])\n",
    "\n",
    "    x_min = round(np.min(x_vals))\n",
    "    x_max = round(np.max(x_vals)) + 1 #account for\n",
    "    y_min = round(np.min(y_vals))\n",
    "    y_max = round(np.max(y_vals)) + 1 #account for\n",
    "\n",
    "    return ([x_min, x_max],[y_min,y_max])\n",
    "\n",
    "img = Image.open('pixels.png')\n",
    "draw = ImageDraw.Draw(img)\n",
    "\n",
    "bbox = Bounding_Box(triangle)\n",
    "op_count = 0\n",
    "print(bbox)\n",
    "for x in range(*bbox[0]):\n",
    "    for y in range(*bbox[1]):\n",
    "            \n",
    "            edge0 = Edge_Function(triangle[0],triangle[1],[x,y])\n",
    "            edge1 = Edge_Function(triangle[1],triangle[2],[x,y])\n",
    "            edge2 = Edge_Function(triangle[2],triangle[0],[x,y])\n",
    "            \n",
    "            \n",
    "            if edge0 and edge1 and edge2:\n",
    "                center_rectangle((x + 0.5) * scale_factor, (y + 0.5) * scale_factor, scale_factor - 2, scale_factor - 2, 'red')\n",
    "            else:\n",
    "                center_rectangle((x + 0.5) * scale_factor, (y + 0.5) * scale_factor, scale_factor - 2, scale_factor - 2, 'blue')\n",
    "                center_ellipse((x + 0.5) * scale_factor, (y + 0.5) * scale_factor, 2, 'white')\n",
    "            op_count += 1\n",
    "img.save('pixels.png')\n",
    "print(f\"total operations: {op_count}\")\n"
   ]
  },
  {
   "cell_type": "markdown",
   "metadata": {},
   "source": [
    "Rasterizing a Polygon"
   ]
  },
  {
   "cell_type": "markdown",
   "metadata": {},
   "source": [
    "Must be convex & ordered"
   ]
  },
  {
   "cell_type": "code",
   "execution_count": 82,
   "metadata": {},
   "outputs": [
    {
     "name": "stdout",
     "output_type": "stream",
     "text": [
      "([15, 76], [10, 61])\n",
      "([10, 81], [10, 91])\n"
     ]
    }
   ],
   "source": [
    "polygon = np.array([[15,10],[75,20],[80,40],[70,80],[50,90],[10,50]])\n",
    "\n",
    "img = Image.open('pixels.png')\n",
    "draw = ImageDraw.Draw(img)\n",
    "\n",
    "\n",
    "print(bbox)\n",
    "\n",
    "def Rasterize_Polygon(polygon, color, path):\n",
    "\n",
    "    \n",
    "    bbox = Bounding_Box(polygon)\n",
    "    print(bbox)\n",
    "    for x in range(*bbox[0]):\n",
    "        for y in range(*bbox[1]):\n",
    "                state = True\n",
    "                vertex_count = len(polygon)\n",
    "\n",
    "                for i in range(vertex_count):\n",
    "                    v0 = i\n",
    "                    v1 = i + 1\n",
    "                    if v1 == vertex_count:\n",
    "                        v1 = 0\n",
    "                    edge_state = Edge_Function(polygon[v0],polygon[v1],[x,y])\n",
    "                    state = state and edge_state\n",
    "                \n",
    "                # if edge0 and edge1 and edge2 and edge3 and edge4 and edge5:\n",
    "                if state:\n",
    "                    center_rectangle((x + 0.5) * scale_factor, (y + 0.5) * scale_factor, scale_factor - 2, scale_factor - 2, color)\n",
    "                # else:\n",
    "                #     center_rectangle((x + 0.5) * scale_factor, (y + 0.5) * scale_factor, scale_factor - 2, scale_factor - 2, background)\n",
    "                #     center_ellipse((x + 0.5) * scale_factor, (y + 0.5) * scale_factor, 2, 'white')\n",
    "\n",
    "\n",
    "\n",
    "    # img.save(path)\n",
    "\n",
    "for vert in polygon:\n",
    "    x = vert[0] * scale_factor\n",
    "    y = vert[1] * scale_factor\n",
    "    center_ellipse(x,y,10,'white')\n",
    "\n",
    "Rasterize_Polygon(polygon,'red','pixels.png')"
   ]
  },
  {
   "cell_type": "markdown",
   "metadata": {},
   "source": [
    "Sorting a polygon:"
   ]
  },
  {
   "cell_type": "code",
   "execution_count": 83,
   "metadata": {},
   "outputs": [],
   "source": [
    "unsorted_polygon = np.array([[75,20],[80,40],[15,10],[70,80],[50,90],[10,50]])\n",
    "\n",
    "img = Image.open('pixels.png')\n",
    "draw = ImageDraw.Draw(img)\n",
    "\n",
    "r = 5\n",
    "for vert in unsorted_polygon:\n",
    "    x = vert[0] * scale_factor\n",
    "    y = vert[1] * scale_factor\n",
    "    center_ellipse(x,y,r,'white')\n",
    "    r *= 1.5\n",
    "# img.save('pixels.png')\n"
   ]
  },
  {
   "cell_type": "code",
   "execution_count": 99,
   "metadata": {},
   "outputs": [],
   "source": [
    "def Calculate_Centroid(polygon):\n",
    "    x = 0\n",
    "    y = 0\n",
    "    for vert in polygon:\n",
    "        x += vert[0]\n",
    "        y += vert[1]\n",
    "    x /= len(polygon)\n",
    "    y /= len(polygon)\n",
    "\n",
    "    return [x,y]\n",
    "\n",
    "def Sort_Vertices(polygon):\n",
    "    angles = []\n",
    "    centroid = Calculate_Centroid(polygon)\n",
    "    # vA = x vector starting at centroid\n",
    "    vA = np.array([centroid[0] + 300,centroid[1],0])\n",
    "    s = 5\n",
    "    for vert in polygon:\n",
    "        x = vert[0]\n",
    "        y = vert[1]\n",
    "        #vB = vector between centroid and vertex\n",
    "        vB = np.array([x - centroid[0], y - centroid[1],0])\n",
    "        \n",
    "        numerator = np.dot(vA,vB)\n",
    "        denominator = np.linalg.norm(vA) * np.linalg.norm(vB)\n",
    "        theta = np.arccos(numerator / denominator)\n",
    "        \n",
    "        # if y < centroid[1]:\n",
    "        #     theta = -theta\n",
    "\n",
    "        sign = np.cross(vA,vB) / np.linalg.norm(np.cross(vA,vB))\n",
    "        theta *= sign[2]\n",
    "\n",
    "        angles.append(theta)\n",
    "        width = round(2 * theta * np.pi)\n",
    "        print(f\"theta: {theta},sign: {sign[2]}\")\n",
    "\n",
    "        # draw.line((centroid[0],centroid[1],x,y),fill='white', width=width) #Drawing vB\n",
    "        center_ellipse(x,y,s,'green')\n",
    "        s += 2\n",
    "\n",
    "    draw.line((centroid[0],centroid[1],vA[0],vA[1]),fill='red', width=width) #Drawing vA\n",
    "\n",
    "\n",
    "    sorted_verts = np.array([x for _, x in sorted(zip(angles, polygon))])\n",
    "    start_index = sorted(angles).index(min(angles))\n",
    "    return sorted_verts, start_index\n",
    "\n",
    "\n",
    "def Outline_Poly(polygon,color,width):\n",
    "    c = 50\n",
    "    for i, point in enumerate(polygon):\n",
    "\n",
    "        k = i + 1\n",
    "        if k == len(polygon):\n",
    "            k = 0\n",
    "        point2 = polygon[k]\n",
    "        # point = [p * scale_factor for p in point]\n",
    "        # point2 = [p * scale_factor for p in point2]\n",
    "\n",
    "        draw.line((point[0],point[1],point2[0],point2[1]),fill=f'rgb({c},{c},{c})', width=width)\n",
    "        c += 25"
   ]
  },
  {
   "cell_type": "code",
   "execution_count": 100,
   "metadata": {},
   "outputs": [
    {
     "name": "stdout",
     "output_type": "stream",
     "text": [
      "theta: 3.0787529561375653,sign: 1.0\n",
      "theta: 2.840522818872819,sign: 1.0\n",
      "theta: -1.7208586643268877,sign: -1.0\n",
      "theta: -0.7219467976939639,sign: -1.0\n",
      "theta: 0.5553942763071783,sign: 1.0\n",
      "theta: 1.2780846424593413,sign: 1.0\n",
      "[195.40786101 265.28646685] [364.14450089 174.85409131]\n",
      "[185.41111442 294.97039045] [470.34674382 279.41080524]\n",
      "[364.14450089 174.85409131] [388.01363268 439.38456405]\n",
      "[470.34674382 279.41080524] [290.11147292 454.72079006]\n",
      "[388.01363268 439.38456405] [185.41111442 294.97039045]\n",
      "[290.11147292 454.72079006] [195.40786101 265.28646685]\n",
      "min index: 0\n"
     ]
    }
   ],
   "source": [
    "res = 100\n",
    "image_resolution = 1080\n",
    "offset = 0.5\n",
    "scale_factor = image_resolution / res\n",
    "\n",
    "polygon = np.array([[10,50],[15,10],[80,40],[75,20],[70,80],[50,90]])\n",
    "\n",
    "polygon = np.array([\n",
    " [195.40786101, 265.28646685],\n",
    " [185.41111442, 294.97039045],\n",
    " [364.14450089, 174.85409131],\n",
    " [470.34674382, 279.41080524],\n",
    " [388.01363268, 439.38456405],\n",
    " [290.11147292, 454.72079006]])\n",
    " \n",
    "\n",
    "img = Image.new('RGB', (image_resolution, image_resolution))\n",
    "draw = ImageDraw.Draw(img)\n",
    "\n",
    "# sorted_polygon = Sort_Vertices([p*scale_factor for p in polygon])\n",
    "sorted_polygon, min_index = Sort_Vertices(polygon)\n",
    "[print(v,s) for v,s in zip(polygon,sorted_polygon)]\n",
    "print(f\"min index: {min_index}\")\n",
    "Outline_Poly(sorted_polygon,'rgb(255,255,255)', 6)\n",
    "\n",
    "# for p in sorted_polygon:\n",
    "#     center_ellipse(p[0],p[1],10,'white')\n",
    "centroid = Calculate_Centroid(polygon)\n",
    "\n",
    "center_ellipse(centroid[0] * scale_factor,centroid[1] * scale_factor,10,'white')\n",
    "\n",
    "img.save('pixels3.png')"
   ]
  }
 ],
 "metadata": {
  "interpreter": {
   "hash": "5b2cd4d236192f6a261c9999f35acf31ddc2292740241caa72680cddfd7111fe"
  },
  "kernelspec": {
   "display_name": "Python 3.9.7 64-bit ('py3': conda)",
   "language": "python",
   "name": "python3"
  },
  "language_info": {
   "codemirror_mode": {
    "name": "ipython",
    "version": 3
   },
   "file_extension": ".py",
   "mimetype": "text/x-python",
   "name": "python",
   "nbconvert_exporter": "python",
   "pygments_lexer": "ipython3",
   "version": "3.9.7"
  },
  "orig_nbformat": 4
 },
 "nbformat": 4,
 "nbformat_minor": 2
}

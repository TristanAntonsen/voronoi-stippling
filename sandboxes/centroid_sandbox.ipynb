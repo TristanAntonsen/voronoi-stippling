{
 "cells": [
  {
   "cell_type": "code",
   "execution_count": 1,
   "metadata": {},
   "outputs": [],
   "source": [
    "from PIL import Image, ImageDraw, ImageFilter\n",
    "from scipy.spatial import Voronoi, voronoi_plot_2d\n",
    "import matplotlib.pyplot as plt\n",
    "import numpy as np\n",
    "from rasterize import Scanline_Rasterize_Polygon, Sort_Vertices, Bounding_Box, Raster_Centroid, Raster_BBox, Weighted_Raster_Centroid"
   ]
  },
  {
   "cell_type": "code",
   "execution_count": 2,
   "metadata": {},
   "outputs": [],
   "source": [
    "def center_rectangle(x,y,l,w,c):\n",
    "    l = l/2\n",
    "    w = w/2\n",
    "    draw.rectangle([x - w, y - l, x + w, y + l],fill=c)\n",
    "\n",
    "def center_ellipse(x,y,r,c):\n",
    "\n",
    "    draw.ellipse([x - r, y - r, x + r, y + r],fill=c)\n",
    "\n",
    "\n",
    "def Outline_Poly(polygon,color,width):\n",
    "    for i, point in enumerate(polygon):\n",
    "\n",
    "        k = i + 1\n",
    "        if k == len(polygon):\n",
    "            k = 0\n",
    "        point2 = polygon[k]\n",
    "\n",
    "        draw.line((point[0],point[1],point2[0],point2[1]),fill=color, width=width)"
   ]
  },
  {
   "cell_type": "code",
   "execution_count": 3,
   "metadata": {},
   "outputs": [],
   "source": [
    "image_resolution = 500\n",
    "res = image_resolution\n",
    "scale_factor = image_resolution / res\n",
    "img = Image.new('RGB', (image_resolution, image_resolution))\n",
    "draw = ImageDraw.Draw(img)\n"
   ]
  },
  {
   "cell_type": "code",
   "execution_count": 4,
   "metadata": {},
   "outputs": [],
   "source": [
    "def Weighted_Raster_Centroid(pixels, image_array):\n",
    "    cx = 0\n",
    "    cy = 0\n",
    "    total_weight = 0\n",
    "    pixel_count = len(pixels)\n",
    "    increment_size = round(pixel_count / 500)\n",
    "    if increment_size < 1:\n",
    "        increment_size = 1\n",
    "    i = 0\n",
    "    while i < pixel_count:\n",
    "        pixel = pixels[i]\n",
    "        # sample_x = int(pixel[1])\n",
    "        # sample_y = int(np.floor(pixel[0]))\n",
    "        # sampled_value = image.getpixel((sample_x,sample_y))\n",
    "        # sampled_value = image_array[sample_x][sample_y]\n",
    "        # if sampled_value > 0.9:\n",
    "        #     sampled_value = 1\n",
    "        # weight = 1 - np.mean(sampled_value) / 255\n",
    "        # weight = 1 - sampled_value\n",
    "        weight = 1\n",
    "\n",
    "        total_weight += weight\n",
    "        \n",
    "        cx += pixel[0] * weight\n",
    "        cy += pixel[1] * weight\n",
    "\n",
    "        # i += increment_size\n",
    "        i += 1\n",
    "    \n",
    "    # if pixel_count == 0:\n",
    "    #     return False\n",
    "    if total_weight == 0:\n",
    "        total_weight = pixel_count\n",
    "\n",
    "    if pixel_count == 0 or cx == 0 or cy == 0:\n",
    "        return False\n",
    "\n",
    "    cx /= total_weight\n",
    "    cy /= total_weight\n",
    "\n",
    "\n",
    "    return [cx, cy]"
   ]
  },
  {
   "cell_type": "code",
   "execution_count": 5,
   "metadata": {},
   "outputs": [
    {
     "name": "stdout",
     "output_type": "stream",
     "text": [
      "([10, 10], [20, 20])\n"
     ]
    }
   ],
   "source": [
    "polygon = np.array([[10,10],[10,20],[20,20],[20,10]])\n",
    "bbox = Raster_BBox(polygon, image_resolution)\n",
    "rasterized = Scanline_Rasterize_Polygon(polygon,bbox,image_resolution)\n",
    "print(bbox)"
   ]
  },
  {
   "cell_type": "code",
   "execution_count": 6,
   "metadata": {},
   "outputs": [
    {
     "name": "stdout",
     "output_type": "stream",
     "text": [
      "50\n",
      "2500\n"
     ]
    }
   ],
   "source": [
    "scale_factor = 10\n",
    "pixel_count = 0\n",
    "img_width = int(image_resolution / scale_factor)\n",
    "offset = 0\n",
    "for x in range(img_width):\n",
    "    for y in range(img_width):\n",
    "        center_rectangle((x + offset)*scale_factor, (y + offset)*scale_factor, scale_factor*.8, scale_factor*.8,'white')\n",
    "offset = 0\n",
    "for pixel in rasterized:\n",
    "    x = pixel[0]\n",
    "    y = pixel[1]\n",
    "    center_rectangle((x + offset)*scale_factor, (y + offset)*scale_factor, scale_factor*.8, scale_factor*.8,'red')\n",
    "\n",
    "for point in polygon:\n",
    "    x = point[0]\n",
    "    y = point[1]\n",
    "    center_ellipse((x + offset)*scale_factor, (y + offset)*scale_factor, scale_factor / 2,'blue')\n",
    "\n",
    "for point in bbox:\n",
    "    x = point[0]\n",
    "    y = point[1]\n",
    "    center_ellipse((x + offset)*scale_factor, (y + offset)*scale_factor, scale_factor / 4,'black')\n",
    "\n",
    "print(img_width)\n",
    "print(50**2)\n",
    "img.save('centroid_debug.png')"
   ]
  },
  {
   "cell_type": "code",
   "execution_count": null,
   "metadata": {},
   "outputs": [],
   "source": []
  }
 ],
 "metadata": {
  "interpreter": {
   "hash": "5b2cd4d236192f6a261c9999f35acf31ddc2292740241caa72680cddfd7111fe"
  },
  "kernelspec": {
   "display_name": "Python 3.9.7 64-bit ('py3': conda)",
   "language": "python",
   "name": "python3"
  },
  "language_info": {
   "codemirror_mode": {
    "name": "ipython",
    "version": 3
   },
   "file_extension": ".py",
   "mimetype": "text/x-python",
   "name": "python",
   "nbconvert_exporter": "python",
   "pygments_lexer": "ipython3",
   "version": "3.9.7"
  },
  "orig_nbformat": 4
 },
 "nbformat": 4,
 "nbformat_minor": 2
}

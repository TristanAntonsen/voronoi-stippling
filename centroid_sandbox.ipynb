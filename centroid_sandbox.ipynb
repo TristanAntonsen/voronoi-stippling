{
 "cells": [
  {
   "cell_type": "code",
   "execution_count": 6,
   "metadata": {},
   "outputs": [],
   "source": [
    "from PIL import Image, ImageDraw, ImageFilter\n",
    "from scipy.spatial import Voronoi, voronoi_plot_2d\n",
    "import matplotlib.pyplot as plt\n",
    "import numpy as np\n",
    "from rasterize import Scanline_Rasterize_Polygon, Sort_Vertices, Bounding_Box, Raster_Centroid, Raster_BBox"
   ]
  },
  {
   "cell_type": "code",
   "execution_count": 7,
   "metadata": {},
   "outputs": [],
   "source": [
    "def center_rectangle(x,y,l,w,c):\n",
    "    l = l/2\n",
    "    w = w/2\n",
    "    draw.rectangle([x - w, y - l, x + w, y + l],fill=c)\n",
    "\n",
    "def center_ellipse(x,y,r,c):\n",
    "\n",
    "    draw.ellipse([x - r, y - r, x + r, y + r],fill=c)\n",
    "\n",
    "\n",
    "def Outline_Poly(polygon,color,width):\n",
    "    for i, point in enumerate(polygon):\n",
    "\n",
    "        k = i + 1\n",
    "        if k == len(polygon):\n",
    "            k = 0\n",
    "        point2 = polygon[k]\n",
    "\n",
    "        draw.line((point[0],point[1],point2[0],point2[1]),fill=color, width=width)"
   ]
  },
  {
   "cell_type": "code",
   "execution_count": 8,
   "metadata": {},
   "outputs": [],
   "source": [
    "image_resolution = 1080\n",
    "image_path = 'gradient1080.jpg'\n",
    "weight_image = Image.open(image_path)\n",
    "res = image_resolution\n",
    "scale_factor = image_resolution / res\n",
    "\n",
    "img = Image.open(image_path)\n",
    "img = weight_image\n",
    "draw = ImageDraw.Draw(img)\n"
   ]
  },
  {
   "cell_type": "code",
   "execution_count": 9,
   "metadata": {},
   "outputs": [],
   "source": [
    "imageArray = np.array(weight_image)\n",
    "def Weighted_Raster_Centroid(pixels):\n",
    "    cx = 0\n",
    "    cy = 0\n",
    "    total_weight = 0\n",
    "    for pixel in pixels:\n",
    "        sample_x = pixel[1]\n",
    "        sample_y = pixel[0]\n",
    "        # sampled_value = image.getpixel((sample_x,sample_y))\n",
    "        sampled_value = imageArray[int(sample_x)][int(sample_y)]\n",
    "\n",
    "        weight = 1 - np.mean(sampled_value) / 255\n",
    "\n",
    "        if weight < 0.05:\n",
    "            weight = 0\n",
    "\n",
    "        total_weight += weight\n",
    "        \n",
    "        cx += pixel[0] * weight\n",
    "        cy += pixel[1] * weight\n",
    "    \n",
    "    if total_weight == 0:\n",
    "        return False\n",
    "\n",
    "    cx /= total_weight\n",
    "    cy /= total_weight\n",
    "    \n",
    "    return [cx, cy]"
   ]
  },
  {
   "cell_type": "markdown",
   "metadata": {},
   "source": []
  },
  {
   "cell_type": "code",
   "execution_count": 12,
   "metadata": {},
   "outputs": [],
   "source": [
    "polygon = np.array([[150,100],[750,200],[800,400],[700,800],[500,900],[100,500]])\n",
    "\n",
    "for point in polygon:\n",
    "    center_ellipse(point[0],point[1],5,'red')\n",
    "bbox = Raster_BBox(polygon)\n",
    "rasterized_polygon = Scanline_Rasterize_Polygon(polygon,bbox,1080,1080)[0]\n",
    "\n",
    "centroidW = Weighted_Raster_Centroid(rasterized_polygon)\n",
    "centroid = Raster_Centroid(rasterized_polygon)\n",
    "for pixel in rasterized_polygon:\n",
    "    # print(pixel)\n",
    "    center_rectangle(pixel[0],pixel[1],1,1,'gray')\n",
    "\n",
    "center_ellipse(centroid[0],centroid[1],10,'green')\n",
    "center_ellipse(centroidW[0],centroidW[1],10,'white')\n",
    "img.save('centroid_test.png')"
   ]
  }
 ],
 "metadata": {
  "interpreter": {
   "hash": "5b2cd4d236192f6a261c9999f35acf31ddc2292740241caa72680cddfd7111fe"
  },
  "kernelspec": {
   "display_name": "Python 3.9.7 64-bit ('py3': conda)",
   "language": "python",
   "name": "python3"
  },
  "language_info": {
   "codemirror_mode": {
    "name": "ipython",
    "version": 3
   },
   "file_extension": ".py",
   "mimetype": "text/x-python",
   "name": "python",
   "nbconvert_exporter": "python",
   "pygments_lexer": "ipython3",
   "version": "3.9.7"
  },
  "orig_nbformat": 4
 },
 "nbformat": 4,
 "nbformat_minor": 2
}

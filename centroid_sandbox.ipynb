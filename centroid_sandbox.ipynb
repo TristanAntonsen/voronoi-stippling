{
 "cells": [
  {
   "cell_type": "code",
   "execution_count": 9,
   "metadata": {},
   "outputs": [],
   "source": [
    "from PIL import Image, ImageDraw, ImageFilter\n",
    "from scipy.spatial import Voronoi, voronoi_plot_2d\n",
    "import matplotlib.pyplot as plt\n",
    "import numpy as np\n",
    "from rasterize import Scanline_Rasterize_Polygon, Sort_Vertices, Bounding_Box, Raster_Centroid, Raster_BBox, Weighted_Raster_Centroid"
   ]
  },
  {
   "cell_type": "code",
   "execution_count": 10,
   "metadata": {},
   "outputs": [],
   "source": [
    "def center_rectangle(x,y,l,w,c):\n",
    "    l = l/2\n",
    "    w = w/2\n",
    "    draw.rectangle([x - w, y - l, x + w, y + l],fill=c)\n",
    "\n",
    "def center_ellipse(x,y,r,c):\n",
    "\n",
    "    draw.ellipse([x - r, y - r, x + r, y + r],fill=c)\n",
    "\n",
    "\n",
    "def Outline_Poly(polygon,color,width):\n",
    "    for i, point in enumerate(polygon):\n",
    "\n",
    "        k = i + 1\n",
    "        if k == len(polygon):\n",
    "            k = 0\n",
    "        point2 = polygon[k]\n",
    "\n",
    "        draw.line((point[0],point[1],point2[0],point2[1]),fill=color, width=width)"
   ]
  },
  {
   "cell_type": "code",
   "execution_count": 11,
   "metadata": {},
   "outputs": [],
   "source": [
    "image_resolution = 500\n",
    "res = image_resolution\n",
    "scale_factor = image_resolution / res\n",
    "img = Image.new('RGB', (image_resolution, image_resolution))\n",
    "draw = ImageDraw.Draw(img)\n",
    "image_array = np.array(img)\n",
    "weight_array = np.zeros([image_resolution,image_resolution])\n",
    "pixels = 0\n",
    "for x in range(image_resolution):\n",
    "    for y in range(image_resolution):\n",
    "        pixel = image_array[x,y]\n",
    "        weight_array[x,y] = np.mean(pixel) / 255"
   ]
  },
  {
   "cell_type": "code",
   "execution_count": 17,
   "metadata": {},
   "outputs": [
    {
     "data": {
      "text/plain": [
       "array([[10, 10],\n",
       "       [10, 20],\n",
       "       [20, 20],\n",
       "       [20, 10]])"
      ]
     },
     "execution_count": 17,
     "metadata": {},
     "output_type": "execute_result"
    },
    {
     "ename": "",
     "evalue": "",
     "output_type": "error",
     "traceback": [
      "\u001b[1;31mThe Kernel crashed while executing code in the the current cell or a previous cell. Please review the code in the cell(s) to identify a possible cause of the failure. Click <a href='https://aka.ms/vscodeJupyterKernelCrash'>here</a> for more info. View Jupyter <a href='command:jupyter.viewOutput'>log</a> for further details."
     ]
    }
   ],
   "source": [
    "polygon = np.array([[10,10],[10,20],[20,20],[20,10]])\n",
    "bbox = Raster_BBox(polygon, image_resolution)\n",
    "rasterized = Scanline_Rasterize_Polygon(polygon,bbox,image_resolution)\n",
    "polygon"
   ]
  },
  {
   "cell_type": "code",
   "execution_count": 16,
   "metadata": {},
   "outputs": [
    {
     "data": {
      "text/plain": [
       "[15.0, 15.0]"
      ]
     },
     "execution_count": 16,
     "metadata": {},
     "output_type": "execute_result"
    }
   ],
   "source": [
    "centroid = Weighted_Raster_Centroid(rasterized, weight_array)\n",
    "centroid"
   ]
  },
  {
   "cell_type": "code",
   "execution_count": 15,
   "metadata": {},
   "outputs": [
    {
     "name": "stdout",
     "output_type": "stream",
     "text": [
      "50\n",
      "2500\n"
     ]
    }
   ],
   "source": [
    "scale_factor = 10\n",
    "pixel_count = 0\n",
    "img_width = int(image_resolution / scale_factor)\n",
    "offset = 0\n",
    "for x in range(img_width):\n",
    "    for y in range(img_width):\n",
    "        center_rectangle((x + offset)*scale_factor, (y + offset)*scale_factor, scale_factor*.8, scale_factor*.8,'white')\n",
    "offset = 0\n",
    "for pixel in rasterized:\n",
    "    x = pixel[0]\n",
    "    y = pixel[1]\n",
    "    center_rectangle((x + offset)*scale_factor, (y + offset)*scale_factor, scale_factor*.8, scale_factor*.8,'red')\n",
    "\n",
    "for point in polygon:\n",
    "    x = point[0]\n",
    "    y = point[1]\n",
    "    center_ellipse((x + offset)*scale_factor, (y + offset)*scale_factor, scale_factor / 2,'blue')\n",
    "\n",
    "for point in bbox:\n",
    "    x = point[0]\n",
    "    y = point[1]\n",
    "    center_ellipse((x + offset)*scale_factor, (y + offset)*scale_factor, scale_factor / 4,'black')\n",
    "\n",
    "\n",
    "center_ellipse((centroid[0] + offset)*scale_factor, (centroid[1] + offset)*scale_factor, scale_factor / 4,'black')\n",
    "\n",
    "\n",
    "\n",
    "print(img_width)\n",
    "print(50**2)\n",
    "img.save('centroid_debug.png')"
   ]
  },
  {
   "cell_type": "code",
   "execution_count": null,
   "metadata": {},
   "outputs": [],
   "source": []
  }
 ],
 "metadata": {
  "interpreter": {
   "hash": "5b2cd4d236192f6a261c9999f35acf31ddc2292740241caa72680cddfd7111fe"
  },
  "kernelspec": {
   "display_name": "Python 3.9.7 64-bit ('py3': conda)",
   "language": "python",
   "name": "python3"
  },
  "language_info": {
   "codemirror_mode": {
    "name": "ipython",
    "version": 3
   },
   "file_extension": ".py",
   "mimetype": "text/x-python",
   "name": "python",
   "nbconvert_exporter": "python",
   "pygments_lexer": "ipython3",
   "version": "3.9.7"
  },
  "orig_nbformat": 4
 },
 "nbformat": 4,
 "nbformat_minor": 2
}
